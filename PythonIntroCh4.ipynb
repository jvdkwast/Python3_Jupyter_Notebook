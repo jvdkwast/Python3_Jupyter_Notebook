{
 "cells": [
  {
   "cell_type": "markdown",
   "metadata": {},
   "source": [
    "< [Ciclos, Ciclos, Ciclos, Ciclos...](PythonIntroCh3.ipynb) | [Contenido](PythonIntro.ipynb) | [Tuplas, Listas, y Diccionarios](PythonIntroCh5.ipynb) >"
   ]
  },
  {
   "cell_type": "markdown",
   "metadata": {},
   "source": [
    "# 4. Funciones\n",
    "## 4.1 Introducción\n",
    "\n",
    "En la última lección, mencionamos que profundizariamos en el propósito de la programación. Eso implica las entradas del usuario, y las entradas requeridas en una cosa llamada funciones.\n",
    "\n",
    "¿Qué son las funciones? Bien, en efecto, las funciones son pequeños programas que realizan una tarea específica, la cual puede incorporar en tus propios y largos programas.\n",
    "Después de que creaste una función, puedes utilizar esta en cualquier lugar, te permite ahorar tiempo y esfuerzo en cualquier lugar, porque evitas repetirle a la computadora que hacer cada ocasión que realizas una tarea común, por ejemplo indicarle al usuario que escriba algo.\n",
    "\n",
    "## 4.2 Uso de una Función\n",
    "Python tiene una gran cantidad de funciones predefinidas, que puedes utilizar ahora, simplemente por su llamada 'calling'. 'Calling' es una función que involucra una función de entrada, y podría regresar un valor (como una variable) como salida. ¿No entiendes? la forma general de llamar a una función es:<br>\n",
    "\n",
    "`function_name(parameters)`\n",
    "\n",
    "¿Ves? Fácil.\n",
    "\n",
    "- `Function_name` identifica cuál es la función que requieres utilizar (Te imaginas!...). Por ejemplo, la función `raw_input`, la cual será la primer función que podría utilizarse.\n",
    "- `Parameters` son los valores que pasan a la función para decirle que debe hacer, y como hacerlo... por ejemplo, si una función múltiplica cualquier número por cinco, las cosas en los parámetros le indican a las funciones cuál es el número podría multiplicarse por cinco. Coloca el número 70 en los parámetros, y la función cálculará 70 x 5."
   ]
  },
  {
   "cell_type": "markdown",
   "metadata": {},
   "source": [
    "## 4.3 Parámetros y valores de retorno - comunicación con las funciones\n",
    "Bien, es adecuado que el programa pueda multiplicar un número por cinco, pero que se hace para mostrar esto? Un sentimiento cálido y difuso? Tu programa requiere observar los resultados, para ver que es la expresión 70x5, o ver si hay alguna problema (como si se tiene una letra en lugar de un número). Cómo hacer que una función que muestra lo que esta haciendo? \n",
    "\n",
    "Bien, en efecto, cuando una computadora corre una función, esta no observa el nombre de la función, pero si el resultado de la función. Las variables  hacen exactamente la misma cosa - la computadora no saben el nombre de las variables, sino lo que la variable contiene. Nombremos al programa que multiplica cualquier número por cinco, `multiply()`. Coloca el número que buscas múltiplicar entre parentesis. Así si tecleas:\n",
    "\n",
    "`a = multiply(70)`\n",
    "it\n",
    "La computadora podría actualmente observar esto:\n",
    "\n",
    "`a = 350`\n",
    "\n",
    "Considera: No se moleste en escribir este código - `multiply()` no es una función real, a menos que creas esta.\n",
    "\n",
    "La función corre por si misma, regresa un número al programa principal, basado en la función de los paŕámetros que se ingresaron.\n",
    "\n",
    "Ahora intentemos esto con una función real y veamos que hace. La función se llama `input`, y le solicita al usuario a teclear algo, después esto lo cambia en una cadena de texto. Prueba el código abajo:"
   ]
  },
  {
   "cell_type": "code",
   "execution_count": null,
   "metadata": {},
   "outputs": [],
   "source": [
    "# esta línea hace que la variable  'a' igual a lo que escribas\n",
    "a = input(\"Teclea algo, y repite sobre la pantalla: \")\n",
    "# esta linea imprime el valor que tiene la variable 'a'\n",
    "print(a)"
   ]
  },
  {
   "cell_type": "markdown",
   "metadata": {},
   "source": [
    "Indicar en el programa de arriba que se teclee `hello`, cuando esto ocurra, teclea algo a la computadora, este programa lucirá así:\n",
    "\n",
    "```Python\n",
    "a = \"hello\"\n",
    "print(\"hello\")\n",
    "```"
   ]
  },
  {
   "cell_type": "markdown",
   "metadata": {},
   "source": [
    "Recuerda, una variable sólo es un valor almacenado. A la computadora, la variable `a` no luce como  `a` - esto luce como el valor que es almacenado dentro de esta. Las funciones son similares - al programa principal (esto es, el programa que esta corriendo una función), ellos lucen con el valor que se otorga para ejecutarse."
   ]
  },
  {
   "cell_type": "markdown",
   "metadata": {},
   "source": [
    "## 4.4 Programa de una calculadora\n",
    "Vamos a escribir otro programa, que funcionará como una calculadora. Esto realizará algo más aventurero que lo que hemos realizado anteriormente. Habrá un menú, que preguntará que tanto deseas multiplicar dos números, agregar dos números juntos, divide un número entre otro, o resta un número de otro. Un problema - la función de entrada - `input` regresa lo que tecleas en una cadena - deseamos el número 1 no la letra 1 (y si, en Phyton hay una diferencia).\n",
    "\n",
    "Afortunadamente, alguien escribió la función `eval`, la cual retorna lo que escribes, en el programa principal - pero en este tiempo, se coloca como un número. Si tecleas un entero (un número completo), lo que sale fuera de una entrada es un entero. Y si pones un entero en una variable, podría ser una variable entera, lo cual significa que puedes sumar y restar, etc."
   ]
  },
  {
   "cell_type": "code",
   "execution_count": null,
   "metadata": {},
   "outputs": [],
   "source": [
    "# esta línea hace que la variable 'a' igual al valor que tecleas. No acepta cadenas\n",
    "a = eval(input(\"Teclea algo, y se repetirá en la pantalla: \"))\n",
    "# esta línea imprime el valor de la variable'a'\n",
    "print(a)"
   ]
  },
  {
   "cell_type": "markdown",
   "metadata": {},
   "source": [
    "Ahora, diseñemos esta calculadora apropiadamente. Deseamos un menú que retorne cada ocasión después de la adición, resta, etc. En otras palabras, ciclar (HINT!!!) mientras\n",
    "(BIG HINT!!!) le indicas al programa que debe ejecutar.\n",
    "Deseamos un menú con opciones en el menú si tecleas un número. Esto involucra un número (input) y un ciclo `if`<br>\n",
    "Escribamos esto en lenguaje inglés primero (pseudocode):\n",
    "\n",
    "```\n",
    "START PROGRAM\n",
    "print opening message\n",
    "\n",
    "while we let the program run, do this:\n",
    "    #Print what options you have\n",
    "    print Option 1 - add \n",
    "    print Option 2 - subtract\n",
    "    print Option 3 - multiply\n",
    "    print Option 4 - divide\n",
    "    print Option 5 - quit program\n",
    "\n",
    "    ask for which option it is you want\n",
    "    if it is option 1:\n",
    "        ask for first number\n",
    "        ask for second number\n",
    "        add them together\n",
    "        print the result onscreen\n",
    "    if it is option 2:\n",
    "        ask for first number\n",
    "        ask for second number\n",
    "        subtract one from the other\n",
    "        print the result onscreen\n",
    "    if it is option 3:\n",
    "        ask for first number\n",
    "        ask for second number\n",
    "        multiply!\n",
    "        print the result onscreen\n",
    "    if it is option 4:\n",
    "        ask for first number\n",
    "        ask for second number\n",
    "        divide one by the other\n",
    "        print the result onscreen\n",
    "    if it is option 5:\n",
    "        tell the loop to stop looping\n",
    "Print onscreen a goodbye message\n",
    "END PROGRAM\n",
    "```\n",
    "Pongamos esto en algo que Python pueda entender:"
   ]
  },
  {
   "cell_type": "code",
   "execution_count": 1,
   "metadata": {},
   "outputs": [
    {
     "name": "stdout",
     "output_type": "stream",
     "text": [
      "Welcome to calculator.py\n",
      "your options are:\n",
      " \n",
      "1. Addition\n",
      "2. Subtraction\n",
      "3. Multiplication\n",
      "4. Division\n",
      "5. Quit calculator.py\n",
      " \n"
     ]
    },
    {
     "ename": "SyntaxError",
     "evalue": "unexpected EOF while parsing (<string>, line 0)",
     "output_type": "error",
     "traceback": [
      "Traceback \u001b[0;36m(most recent call last)\u001b[0m:\n",
      "  File \u001b[1;32m\"/data/miniconda3/lib/python3.8/site-packages/IPython/core/interactiveshell.py\"\u001b[0m, line \u001b[1;32m3437\u001b[0m, in \u001b[1;35mrun_code\u001b[0m\n    exec(code_obj, self.user_global_ns, self.user_ns)\n",
      "\u001b[0;36m  File \u001b[0;32m\"<ipython-input-1-e9e067e965c5>\"\u001b[0;36m, line \u001b[0;32m25\u001b[0;36m, in \u001b[0;35m<module>\u001b[0;36m\u001b[0m\n\u001b[0;31m    choice = eval(input(\"Choose your option: \"))\u001b[0m\n",
      "\u001b[0;36m  File \u001b[0;32m\"<string>\"\u001b[0;36m, line \u001b[0;32munknown\u001b[0m\n\u001b[0;31m    \u001b[0m\n\u001b[0m    ^\u001b[0m\n\u001b[0;31mSyntaxError\u001b[0m\u001b[0;31m:\u001b[0m unexpected EOF while parsing\n"
     ]
    }
   ],
   "source": [
    "#calculator program\n",
    "\n",
    "# esta variable le indica al ciclo si debería continuar el ciclo o no\n",
    "# el valor 1 significa que el ciclo, cualquier otra cosa no realiza el ciclo.\n",
    "\n",
    "loop = 1\n",
    "\n",
    "# esta variable contiene la opción del usuario en el menú:\n",
    "\n",
    "choice = 0\n",
    "\n",
    "while loop == 1:\n",
    "    #print what options you have\n",
    "    print(\"Welcome to calculator.py\")\n",
    "\n",
    "    print(\"your options are:\")\n",
    "    print(\" \")\n",
    "    print(\"1. Addition\")\n",
    "    print(\"2. Subtraction\")\n",
    "    print(\"3. Multiplication\")\n",
    "    print(\"4. Division\")\n",
    "    print(\"5. Quit calculator.py\")\n",
    "    print(\" \")\n",
    "\n",
    "    choice = eval(input(\"Choose your option: \"))\n",
    "    if choice == 1:\n",
    "        add1 = eval(input(\"Add this: \"))\n",
    "        add2 = eval(input(\"to this: \"))\n",
    "        print(add1, \"+\", add2, \"=\", add1 + add2)\n",
    "    elif choice == 2:\n",
    "        sub2 = eval(input(\"Subtract this: \"))\n",
    "        sub1 = eval(input(\"from this: \"))\n",
    "        print(sub1, \"-\", sub2, \"=\", sub1 - sub2)\n",
    "    elif choice == 3:\n",
    "        mul1 = eval(input(\"Multiply this: \"))\n",
    "        mul2 = eval(input(\"with this: \"))\n",
    "        print(mul1, \"*\", mul2, \"=\", mul1 * mul2)\n",
    "    elif choice == 4:\n",
    "        div1 = eval(input(\"Divide this: \"))\n",
    "        div2 = eval(input(\"by this: \"))\n",
    "        print(div1, \"/\", div2, \"=\", div1 / div2)\n",
    "    elif choice == 5:\n",
    "        loop = 0\n",
    "        \n",
    "print(\"Thank you for using calculator.py!\")"
   ]
  },
  {
   "cell_type": "markdown",
   "metadata": {},
   "source": [
    "Prueba todas las opciones, indica enteros (números sin puntos decimales), y números con cosas después del punto decimal (conocido en la programación como un punto flotante).\n",
    "Intenta teclear el texto, y observa como el programa presenta un menor ajuste y se detiene (eso se puede arreglar, utilizando el manejo de errores que veremos más adelante)."
   ]
  },
  {
   "cell_type": "markdown",
   "metadata": {},
   "source": [
    "## 4.5 Define funciones propias\n",
    "Bien, esta muy bien que puedas utilizar las funciones de otras personas, pero ¿Qué pasa si deseas escribir tus propias funciones, ahorrar tiempo, y posiblemente usarlas en tus programas? Aquí es donde el operador `def` entra. ( Un operador sólo le indica a Python que hacer, por ejemplo el operador `+` le indica que sume cosas; el operator  `if` le dice a Python hacer algo si las condiciones se encuentran.)\n",
    "\n",
    "Esta es la forma en que el operador `def` trabaja:\n",
    "\n",
    "```\n",
    "def function_name(parameter_1,parameter_2):\n",
    "    {este el código en la función}\n",
    "    {más código}\n",
    "    {más código}\n",
    "    return {regresa el valor a la función principal}\n",
    "{este código no se encuentra en la función}\n",
    "{porque no se encuentra identado}\n",
    "#recuerda los dos puntos \":\" al final \n",
    "#de la línea que inicia con  'def'\n",
    "```\n"
   ]
  },
  {
   "cell_type": "markdown",
   "metadata": {},
   "source": [
    "`function_name` es el nombre de la función. Escribe el código abajo de la línea e identalo. (preocupemonos del los parámetros `parameter_1` y `parameter_2` después, por ahora imagina que no hay problemas entre los paréntesis.\n",
    "\n",
    "Las funciones corren en forma independiente del menú principal. Recuerda cuando que digo que la computadora llega a una función, esta no ve a la función, pero que pasa con un valor que la función regresa? Aquí hay una cita:\n",
    "Para la computadora, la variable 'a' no luce como 'a'- esto luce como el valor que es almacenado dentro de esta. La funciones son similares - para el menú principal (esto es, el programa que está corriendo la función), ellos ven  como el valor que ellos le regresan a cambio de ejecuatarse."
   ]
  },
  {
   "cell_type": "markdown",
   "metadata": {},
   "source": [
    "Una función es como un pequeño programa al que se le proporcionan unos parámetros - este corre por si mismo, y regresa un valor. La función princial sólo observa el valor retornado. Si una función voló a la Luna y regreso, y al final obtuvo:\n",
    "\n",
    "`return \"hello\"`\n",
    "\n",
    "Así todos tus programas verán la cadena `\"hello\"`, donde estaba el nombre de la función. Esta no tendría idea de lo que el programa realiza. \n",
    "\n",
    "Debido a que es un programa separado, una función no ve cualquiera de las variables que se encuentran en el menú principal, y el menú principal no ve cualquier varibale que se encuentre en la función. Por ejemplo, hay una función que imprime las palabras `\"hello\"` en la pantalla, y entonces regresa el número `'1234'` al menú principal:"
   ]
  },
  {
   "cell_type": "code",
   "execution_count": 2,
   "metadata": {},
   "outputs": [
    {
     "name": "stdout",
     "output_type": "stream",
     "text": [
      "hello\n",
      "1234\n"
     ]
    }
   ],
   "source": [
    "# Acontinuación se muestra la función\n",
    "def hello():\n",
    "    print(\"hello\")\n",
    "    return 1234\n",
    "\n",
    "# Aquí la función se utiliza\n",
    "print(hello())"
   ]
  },
  {
   "cell_type": "markdown",
   "metadata": {},
   "source": [
    "Qué sucede?\n",
    "1.\tCuando se ejecuta `def hello()`, una función llamada `hello` fue creada\n",
    "2.\tCuando la línea `print(hello())` se ejecutó, la función  `hello` fue ejecutada (El código dentro fue ejecutada)\n",
    "3.\tLa función `hello` imprime `\"hello\"` sobre la pantalla, entonces regresa el número `1234` al menú principal\n",
    "4.\tEl menú principal ahora ve la línea `print(\"1234\")` y como resultado , imprime `1234`"
   ]
  },
  {
   "cell_type": "markdown",
   "metadata": {},
   "source": [
    "\n",
    "Eso explica todo lo que sucede. Recuerda, que el programa princiapl no tiene idea que las palabras `hello` fueron impresas en la pantalla. Todo lo que vio fue `1234`, y lo imprimio sonbre la pantalla."
   ]
  },
  {
   "cell_type": "markdown",
   "metadata": {},
   "source": [
    "## 4.6 Pasando parámetros a las funciones\n",
    "\n",
    "Hay una cosa más que cubriremos en esta (moustrosamente grande) lección - pasando parámetros a una función. Regresamos de ver como definimos funciones:<br>\n",
    "```\n",
    "def function_name(parameter_1,parameter_2):\n",
    "    {este el código dentro de la función}\n",
    "    {más código}\n",
    "    {más código}\n",
    "    return {valor (ejemplo texto o números) para regresar al menú principal}\n",
    "```\n",
    "\n",
    "Donde `parameter_1` y `parameter_2` son (entre los paréntesis), coloca los nombres de las variables que desees poner a los parámetros. Coloca tantas como tú desees, sólo separalos por comas. Cuando ejecutas una función, el primer valor que colocas dentro los parentesis podría estar en `parameter_1`. El segundo valor (después de la primera coma) podría estar en `parameter_2`. Esto continua para todos los parámetros que haya en la función (de cero al cielo). Por ejemplo:"
   ]
  },
  {
   "cell_type": "code",
   "execution_count": null,
   "metadata": {},
   "outputs": [],
   "source": []
  },
  {
   "cell_type": "code",
   "execution_count": null,
   "metadata": {},
   "outputs": [],
   "source": [
    "def funnyfunction(first_word,second_word,third_word):\n",
    "    print(\"The word created is: \" + first_word + second_word + third_word)\n",
    "    return first_word + second_word + third_word"
   ]
  },
  {
   "cell_type": "markdown",
   "metadata": {},
   "source": [
    "Cuando corres la función de arriba, podrías teclear algo como esto: `funnyfunction(\"meat\",\"eater\",\"man\")`. El primer valor (esto es, \"meat\") podría colocarse dentro de la primera variable llamada first_word. El segundo valor dentro de los parentesis (that is, \"eater\") podría colocarse en la variable llamada  second_word, y así sucesivamente. Esto es como los valores son pasados desde el menú principal a las funciones - dentro de los parentesis, después del nombre de la función.\n",
    "\n",
    "Agrega una nueva línea al script de arriba que invoke a la función."
   ]
  },
  {
   "cell_type": "markdown",
   "metadata": {},
   "source": [
    "## 4.7 Un programa final\n",
    "Volvamos al programa de la calculadora. ¿Te pareció un poco desordenado? Pienso que si, así que reescribamos esto con funciones.\n",
    "\n",
    "Para diseñar - Primero definiremos todas las funciones, utilizaremos el operador `def` (aún recuerdas que es un operador ;) ). Entonces tendremos un porgrama principal, reeemplazando el código desordenado con una forma más bonito, con funciones ordenadas. Esto será más fácil de leer otra vez en el futuro."
   ]
  },
  {
   "cell_type": "code",
   "execution_count": null,
   "metadata": {},
   "outputs": [],
   "source": [
    "# calculator program\n",
    "\n",
    "# NINGÚN CÓDIGO SE EJECUTA AQUÍ, UNICAMENTE INDICAMOS QUE HAREMOS MÁS TARDE\n",
    "# Aquí definiremos las funciones\n",
    "# que imprime el menú principal y pregunta una opción\n",
    "def menu():\n",
    "    #imprime las opcines que se tienen\n",
    "    print(\"Welcome to calculator.py\")\n",
    "    print(\"your options are:\")\n",
    "    print(\" \")\n",
    "    print(\"1. Addition\")\n",
    "    print(\"2. Subtraction\")\n",
    "    print(\"3. Multiplication\")\n",
    "    print(\"4. Division\")\n",
    "    print(\"5. Quit calculator.py\")\n",
    "    print(\" \")\n",
    "    return eval(input(\"Choose your option: \"))\n",
    "    \n",
    "# suma de dos números\n",
    "def add(a,b):\n",
    "    print(a, \"+\", b, \"=\", a + b)\n",
    "    \n",
    "# resta de dos números\n",
    "def sub(a,b):\n",
    "    print(b, \"-\", a, \"=\", b - a)\n",
    "    \n",
    "# multiplicación de dos números\n",
    "def mul(a,b):\n",
    "    print(a, \"*\", b, \"=\", a * b)\n",
    "    \n",
    "# división de dos números\n",
    "def div(a,b):\n",
    "    print(a, \"/\", b, \"=\", a / b)\n",
    "    \n",
    "\n",
    "# AQUI EL PROGRAMA REALMENTE INICIA, SE EJECUTA EL CÓDIGO\n",
    "loop = 1\n",
    "choice = 0\n",
    "while loop == 1:\n",
    "    choice = menu()\n",
    "    if choice == 1:\n",
    "        add(eval(input(\"Add this: \")),eval(input(\"to this: \")))\n",
    "    elif choice == 2:\n",
    "        sub(eval(input(\"Subtract this: \")),eval(input(\"from this: \")))\n",
    "    elif choice == 3:\n",
    "        mul(eval(input(\"Multiply this: \")),eval(input(\"by this: \")))\n",
    "    elif choice == 4:\n",
    "        div(eval(input(\"Divide this: \")),eval(input(\"by this: \")))\n",
    "    elif choice == 5:\n",
    "        loop = 0\n",
    "\n",
    "print(\"Thank you for using calculator.py!\")\n",
    "\n",
    "# AHORA EL PROGRAMA TERMINA REALMENTE"
   ]
  },
  {
   "cell_type": "markdown",
   "metadata": {},
   "source": [
    "El programa tiene 34 líneas de código. El nuevo actualmente, tiene 35 líneas de código! Es un poco más largo, pero si revisas bien, es más simple.\n",
    "\n",
    "Define todas las funciones en la parte superior. Esto no forma parte del menú principal - son sólo pequeños programas que podrías llamar posteriormente. Podrías reutilizar estos en otros programas si lo requieres, y no quieres decirle a la computadora como sumar y restar nuevamente.\n",
    "\n",
    "Si revisas la parte principal del programa (entre la línea   `loop = 1` y `print(\"Thank you for...\")`) tiene sólo 15 líneas de código. Esto significa que si deseas escribir un porgrama diferente, sólo tendrías que escribir 15 o más líneas, a diferencia de las 34 líneas que normalmente tendrías sin funciones."
   ]
  },
  {
   "cell_type": "markdown",
   "metadata": {},
   "source": [
    "## 4.8 Formas complicadas de pasas parámetros\n",
    "Finalmente, como un pequeño interludio, explicaremos el significado de las líneas `add(eval(input(\"Add this: \")),eval(input(\"to this: \")))`.\n",
    "\n",
    "Quería ajustar todos dentro de una línea, con la menor cantidad de variables como sea posible. Recuerda cómo ven las funciones en el menú principal? Cualquiera que sea el valor que devuelvan. Si los números que pasas a la función principal add() sean 2 y 30, el menú principal vería esto:\n",
    "\n",
    "`add(2,30)`\n",
    "\n",
    "El programa add podría entonces ejecutar y agregar 2 y 30, entonces imprime el resultado. El programa add tiene el operador `return`  - esta no regresa un valor de return al menú principal. Simplemente agrega dos números y los imprime sobre la pantalla, y el menú principal no ve a ninguna de estas.\n",
    "\n",
    "En lugar de `(eval(input(\"Add this: \")),eval(input(\"to this: \")))` como los parámetros para el programa add podría tener las variables, por ejemplo:\n",
    "\n",
    "```\n",
    "num1 = 45\n",
    "num2 = 7\n",
    "add(num1,num2)\n",
    "```\n",
    "\n",
    "Para lo anterior, recuerda  que a la función a la que se pasan las variables no pueden cambiar las variables. - ellas simplemente son usadas como valores. Incluso podrías colocar los valores directamente dentro de la función:\n",
    "\n",
    "`add(45,7)`\n",
    "\n",
    "Esto es porque la única cosa que la función observa son los valores que son pasados como parámetros. Estos valores son colocados dentro de las variables que son mencionadas cuando se define `add` (la línea  `def add(a,b)`). La función entonces utiliza los parámetros para hacer su trabajo.\n",
    "\n",
    "En resumen:\n",
    "* La única cosa  que la función ve del programa principal, son los parámetros que son pasados a este.\n",
    "* La única cosa que el programa principal ve de la función es el valor regresado."
   ]
  },
  {
   "cell_type": "markdown",
   "metadata": {},
   "source": [
    "## 4.9 Conclusiones\n",
    "WHOA!!!! QUE LECCIÓN DE ASESINO!!! pero lo superamos y tuve pocos errores ortográficos. Excelente!"
   ]
  },
  {
   "cell_type": "markdown",
   "metadata": {},
   "source": [
    "< [Ciclos, Ciclos, Ciclos, Ciclos...](PythonIntroCh3.ipynb) | [Contenidos](PythonIntro.ipynb) | [Tuplas, Listas, y Diccionarios](PythonIntroCh5.ipynb) >"
   ]
  }
 ],
 "metadata": {
  "interpreter": {
   "hash": "5280772cecbfc1b8d74142ceb7bf7d1e56134a3d99ae0731cafcc35c81276f3f"
  },
  "kernelspec": {
   "display_name": "Python 3.8.5 64-bit ('base': conda)",
   "name": "python3"
  },
  "language_info": {
   "codemirror_mode": {
    "name": "ipython",
    "version": 3
   },
   "file_extension": ".py",
   "mimetype": "text/x-python",
   "name": "python",
   "nbconvert_exporter": "python",
   "pygments_lexer": "ipython3",
   "version": "3.8.5"
  }
 },
 "nbformat": 4,
 "nbformat_minor": 2
}
