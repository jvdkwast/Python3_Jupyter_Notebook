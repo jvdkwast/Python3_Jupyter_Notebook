{
 "cells": [
  {
   "cell_type": "markdown",
   "metadata": {},
   "source": [
    "< [Functions](PythonIntroCh4.ipynb) | [Contents](PythonIntro.ipynb) | [For Loop](PythonIntroCh6.ipynb) >"
   ]
  },
  {
   "cell_type": "markdown",
   "metadata": {},
   "source": [
    "# 5.\tTuplas. listas y diccionarios\n",
    "## 5.1\tIntroducción\n",
    "Aún te duele el cerebro por la lección pasada? No te preocupes, esto requerirá un poco menos de pensamiento. Volvemos a algo más simple - variables - pero un poco más en profundidad.\n",
    "\n",
    "Piensálo - las variables almacenan un poco de información. Pueden regurgitar (pero no en la alfombra...) información en cualquier punto, cualquier información puede cambiar en cualquier momento. Las variables son excelentes para hacer lo que hacen - almacenar información que puede cambiar sobre el tiempo. \n",
    "\n",
    "Sin embargo, ¿Qué pasa si requieres almacenar una lista de información, la misma que no cambia sobre el tiempo? Dí, por ejemplo, los nombres de los meses del año. O ¿Una lista larga de información que cambia sobre el tiempo? Por decir los nombres de todos tus gatos. Podrías tener nuevos gatos, algunos morir. ¡Qué tal un directorio teléfonico? Para ello requieres un poco de referencia; tendrías una lista de nombres y adjunto sus nombres, un número teléfonico. ¿Cómo harías esto?"
   ]
  },
  {
   "cell_type": "markdown",
   "metadata": {},
   "source": [
    "## 5.2\tLa solución - Listas, Tuplas y Diccionarios\n",
    "Para estos tres problemas, Python usa tres diferentes soluciones - Tuplas, Listas y Diccionarios:\n",
    "\n",
    "* **Listas** son los que parecen - una lista de valores. Cada uno de ellos es numerado, empiezan desde cero - el primero es un número cero, el segundo 1, etc. Puedes borrar los valores desde la lista, y agregar nuevos valores al final. Por ejemplo: los nombres de muchos gatos.\n",
    "\n",
    "* **Tuplas** son como las listas, aunque no puedes cambiar sus valores. Los valores que otorgas primero son los valores que utilizarás en el resto del programa. Nuevamente, cada valor es numerado desde cero, para una fácil referencia. Por ejemplo: los nombres de los meses del años.\n",
    "\n",
    "* **Diccionarios** son similares a lo que su nombre suguiere - en un diccionario, tienes un 'index' de palabras y cada uno de ellos tiene una definición. En Python, la palabra es 'key', y la definición como un 'value'. Los valores en un diccionario no estan numerados - ellos no se encuentran en un orden específico, tampoco las llaves (key). Puedes agregar, borrar y modificar los valores en un diccionario. Por ejemplo un directorio telefónico."
   ]
  },
  {
   "cell_type": "markdown",
   "metadata": {},
   "source": [
    "### 5.2.1 Tuplas\n",
    "Las Tuplas son más fácil de realizar. Indicas un nombre a la tupla, después de eso, la lista de valores que llevará. Por ejemplo. los meses del año:"
   ]
  },
  {
   "cell_type": "code",
   "execution_count": null,
   "metadata": {},
   "outputs": [],
   "source": [
    "months = ('January','February','March','April','May','June',\\\n",
    "'July','August','September','October','November','  December')"
   ]
  },
  {
   "cell_type": "markdown",
   "metadata": {},
   "source": [
    "* Considera que el símbolo `\\`  al final de la primer línea indica que continua en la siguiente línea de código. Es una forma útil de que las líneas largas sean legibles.\n",
    "* Tecnicamente no requieres colocar los paréntisis (la `(` y `)` ) pero evita que Python se confunda.\n",
    "* Puedes colocar espacios despúes de las comas si lo consideras necesario - No importa."
   ]
  },
  {
   "cell_type": "markdown",
   "metadata": {},
   "source": [
    "Pyhton entonces organiza estos valores en un índice numerado práctico - inicia desde cero, en el orden que ingresastes los valores. Esto podría organizarse como:<br>\n",
    "\n",
    "| Index | Value |\n",
    "| :---: | :---: |\n",
    "| 0 | January |\n",
    "| 1 | February |\n",
    "| 2 | March |\n",
    "| 3 | April |\n",
    "| 4 | May |\n",
    "| 5 | June |\n",
    "| 6 | July |\n",
    "| 7 | August |\n",
    "| 8 | September |\n",
    "| 9 | October |\n",
    "| 10 | November |\n",
    "| 11 | December |\n",
    "Y asi las tuplas! Muy sencillas...\n"
   ]
  },
  {
   "cell_type": "markdown",
   "metadata": {},
   "source": [
    "\n",
    "### 5.2.2 Listas\n",
    "Las listas son extremadamente similares a las Tuplas. Las listas son modificables (o 'mutable', como un programador indica), así sus valores pueden cambiar. La mayor parte del tiempo utilizamos listas, no Tuplas, porque cambiamos facilmente los valores de las cosas si lo requerimos.\n",
    "Las listas son definidas muy similares a las Tuplas. Considera que tienes CINCO gatos llamados Tom, Snappy, Kitty, Jessie y Chester. Colocalos en una lista, que luce como:<br>"
   ]
  },
  {
   "cell_type": "code",
   "execution_count": 2,
   "metadata": {},
   "outputs": [],
   "source": [
    "cats = ['Tom', 'Snappy', 'Kitty', 'Jessie', 'Chester']"
   ]
  },
  {
   "cell_type": "markdown",
   "metadata": {},
   "source": [
    "Como observas, el código es exactamente el mismo como una Tupla, excepto que todos los valores son colocadas entre corchetes, no paréntesos. Asimismo, no requieres espacios después de la coma.\n",
    "\n",
    "Recuerda utilizar los valores de las listas son exactamente los mismos como lo haces con las Tuplas. Por ejemplo, imprime el nombre de tu tercer gato, podrías hacer esto:\n"
   ]
  },
  {
   "cell_type": "code",
   "execution_count": 4,
   "metadata": {},
   "outputs": [
    {
     "name": "stdout",
     "output_type": "stream",
     "text": [
      "['Tom', 'Snappy']\n"
     ]
    }
   ],
   "source": [
    "print(cats[0:2])"
   ]
  },
  {
   "cell_type": "markdown",
   "metadata": {},
   "source": [
    "Puedes indicar un rango de ejemplos, por ejemplo, arriba `cats[0:2]` \n",
    "recordarias el primer y segundo gato. Pruebalo con el campo de arriba.\n",
    "\n",
    "Donde las listas son más útiles es en la forma en que pueden ser modificada. Para añadir un valor a una lista, se utiliza la función `append()`. Dígamos que tienes un nuevo gato llamado Catherine. Para añadirla a la lista, podrías realizar lo siguientes:"
   ]
  },
  {
   "cell_type": "code",
   "execution_count": 5,
   "metadata": {},
   "outputs": [],
   "source": [
    "cats.append('Catherine')"
   ]
  },
  {
   "cell_type": "markdown",
   "metadata": {},
   "source": [
    "Usa el campo abajo que verifica si el nombre del gato se agrego a la lista."
   ]
  },
  {
   "cell_type": "code",
   "execution_count": 6,
   "metadata": {},
   "outputs": [
    {
     "name": "stdout",
     "output_type": "stream",
     "text": [
      "['Tom', 'Snappy', 'Kitty', 'Jessie', 'Chester', 'Catherine']\n"
     ]
    }
   ],
   "source": [
    "print(cats)"
   ]
  },
  {
   "cell_type": "markdown",
   "metadata": {},
   "source": [
    "Es un poco raro ¿no? Te lo explicaré. Esta función se encuentra en un punto divertido - después de un punto `.` después del nombre de la lista. Revisaremos estas cosas en una lección posterior. Mientras tanto, esta es la forma de la función que agrega un nuevo valor a la lista:\n",
    "```Python\n",
    "\n",
    "#agrega un nuevo valor al final de la lista:\n",
    "list_name.append(value-to-add)\n",
    "\n",
    "#ejemplo agregar el número 5038 a la lista de 'numbers':\n",
    "numbers.append(5038)\n",
    "```\n",
    "¿Se aclararon las cosas? Bien!\n",
    "Ahora pasemos a un situación  triste - un vecino le disparo a tu gato y se lo comió en la cena (¡Bien por ellos!). Así que tienes que borrar su nombre de la lista. Es una tarea fácil, por suerte, así te revolcarás en tu tristeza menos tiempos:"
   ]
  },
  {
   "cell_type": "code",
   "execution_count": 7,
   "metadata": {},
   "outputs": [],
   "source": [
    "#Borra el nombre del segundo gato, Snappy. Woe es tuyo.\n",
    "del cats[1]"
   ]
  },
  {
   "cell_type": "markdown",
   "metadata": {},
   "source": [
    "Verifica otra vez cuales nombres de gatos se encuentran en la lista:"
   ]
  },
  {
   "cell_type": "code",
   "execution_count": 8,
   "metadata": {},
   "outputs": [
    {
     "name": "stdout",
     "output_type": "stream",
     "text": [
      "['Tom', 'Kitty', 'Jessie', 'Chester', 'Catherine']\n"
     ]
    }
   ],
   "source": [
    "print(cats)"
   ]
  },
  {
   "cell_type": "markdown",
   "metadata": {},
   "source": [
    "Acabas de eliminar el segundo nombre del gato de tu lista: pobre Snappy. Y con el mensaje morbosos, pasemos a..."
   ]
  },
  {
   "cell_type": "markdown",
   "metadata": {},
   "source": [
    "### 5.3 Diccionarios\n",
    "Muy bien, la vida es algo más que los nombres de tus gatos. Requieres llamar a tu hermana, madre, hermano, el frutero, y cualquiera que necesite conocer que su gato favorito ha muerto. Para ello requieres un directorio teléfonico.\n",
    "\n",
    "Ahora bien, las listas que hemos utilizado arriba, no son adecuadas para una guía teléfonica. Requieres saber el número basado en el nombre de alguien, no al revés, como hicimos con los nombres de los gatos. En el ejemplo de las listas de meses y gatos, le indicamos a la computadora un número y esta nos devolvio un nombre. Ahora, deseamos indicarle un nombre y que nos devuelva un número. Para ello necesitamos *Dictionaries*.\n",
    "\n",
    "¿Cómo hacemos un diccionario? Guarda tu equipo de encuadernación, no estan avanzado. Recuerda, los diccionarios tienen llaves 'keys' y valores. En un directorio telefónico, tienes los nombres de las personas y sus números, observas una similitud?\n",
    "\n",
    "Cuando creas inicialmente un diccionario, es muy parecido a una tupla o lista. Las Tuplas tienen parentesis `(` y `)` , las listas tienen corchetes `[` y `]`. Adivina que! los directorios tienen  llaves `{` y `}`. Aquí hay un ejemplo, mostrando cuatro números telefónicos:"
   ]
  },
  {
   "cell_type": "code",
   "execution_count": 9,
   "metadata": {},
   "outputs": [
    {
     "name": "stdout",
     "output_type": "stream",
     "text": [
      "1122345\n"
     ]
    }
   ],
   "source": [
    "#Make the phone book:\n",
    "phonebook = {'Andrew Parson':8806336, \\\n",
    "'Emily Everett':6784346, 'Peter Power':7658344, \\\n",
    "'Lewis Lame':1122345}\n",
    "\n",
    "print(phonebook['Lewis Lame'])"
   ]
  },
  {
   "cell_type": "markdown",
   "metadata": {},
   "source": [
    "Cuando ejecutas el bloque, observa el número de Lewis Lame es desplegado sobre la pantalla. Considera que en el lugar de identificar el valor por un número, como en los ejemplos de los gatos y los meses, ahora identificamos el valor utilizando otro valor, el nombre de la persona.\n",
    "\n",
    "Bien, has creado un nuevo directorio teléfonico. Ahora quieres agregar nuevos números en el directorio. ¿Qué hace? Una línea de código:"
   ]
  },
  {
   "cell_type": "code",
   "execution_count": 11,
   "metadata": {},
   "outputs": [],
   "source": [
    "# Agrega el nombre de una persona 'Gingerbread Man' \n",
    "# al directorio teléfonico:\n",
    "\n",
    "phonebook['Gingerbread Man'] = 1234567\n",
    "\n",
    "# No pensaste que te lo proporcionaría\n",
    "# Mi número real, ahora, ¿verdad?"
   ]
  },
  {
   "cell_type": "markdown",
   "metadata": {},
   "source": [
    "Lo que dice la línea es que hay una persona llamada  Gingerbread Man \n",
    "en el directorio teléfonico y su número es `1234567`. En otras palabras, la llaves es `Gingerbread Man`, y el valor es `1234567`."
   ]
  },
  {
   "cell_type": "markdown",
   "metadata": {},
   "source": [
    "Verifica si se agrego usando el campo abajo."
   ]
  },
  {
   "cell_type": "code",
   "execution_count": 12,
   "metadata": {},
   "outputs": [
    {
     "name": "stdout",
     "output_type": "stream",
     "text": [
      "1234567\n"
     ]
    }
   ],
   "source": [
    "print (phonebook['Gingerbread Man'])"
   ]
  },
  {
   "cell_type": "markdown",
   "metadata": {},
   "source": [
    "Las entradas en un Diccionario se borran igual que en una lista. Supongamos que Andrew Parson es tu vecino, y le ha disparado a tu gato. No quieres volver a hablar con él y, por lo tanto, no requieres su número. Al igual que en una lista, harías esto:"
   ]
  },
  {
   "cell_type": "code",
   "execution_count": 13,
   "metadata": {},
   "outputs": [],
   "source": [
    "del phonebook['Andrew Parson']"
   ]
  },
  {
   "cell_type": "markdown",
   "metadata": {},
   "source": [
    "Otra vez, es muy fácil. El operador `del` borra cualquier función, variable o entrada en una lista o diccionario (Una entrada en el diccionario sólo es una variable con un número o cadena de texto como un nombre. Esto será útil más adelante)."
   ]
  },
  {
   "cell_type": "markdown",
   "metadata": {},
   "source": [
    "\n",
    "Verifica si el número ha desaparecido utilizando el campo abajo."
   ]
  },
  {
   "cell_type": "code",
   "execution_count": 14,
   "metadata": {},
   "outputs": [
    {
     "ename": "KeyError",
     "evalue": "'Andrew Parson'",
     "output_type": "error",
     "traceback": [
      "\u001b[0;31m---------------------------------------------------------------------------\u001b[0m",
      "\u001b[0;31mKeyError\u001b[0m                                  Traceback (most recent call last)",
      "\u001b[0;32m<ipython-input-14-95f94c55c2b4>\u001b[0m in \u001b[0;36m<module>\u001b[0;34m\u001b[0m\n\u001b[0;32m----> 1\u001b[0;31m \u001b[0mprint\u001b[0m \u001b[0;34m(\u001b[0m\u001b[0mphonebook\u001b[0m\u001b[0;34m[\u001b[0m\u001b[0;34m'Andrew Parson'\u001b[0m\u001b[0;34m]\u001b[0m\u001b[0;34m)\u001b[0m\u001b[0;34m\u001b[0m\u001b[0;34m\u001b[0m\u001b[0m\n\u001b[0m",
      "\u001b[0;31mKeyError\u001b[0m: 'Andrew Parson'"
     ]
    }
   ],
   "source": [
    "print (phonebook['Andrew Parson'])"
   ]
  },
  {
   "cell_type": "markdown",
   "metadata": {},
   "source": [
    "¿Recuerdas que la función `append` que utilizamos con la lista? Bien, hay bastantes funciones que se pueden utilizar en los diccionarios. A continuación escribiré un programa. que incorporá algunas de esas funciones. Esto tendrá comentario a lo largo del programa explicando lo que hace. Experimenta como quieras con este."
   ]
  },
  {
   "cell_type": "code",
   "execution_count": 15,
   "metadata": {},
   "outputs": [
    {
     "name": "stdout",
     "output_type": "stream",
     "text": [
      "Sue is in the dictionary. She is 23 years old\n",
      "The following people are in the dictionary:\n",
      "dict_keys(['Sue', 'Peter', 'Andrew', 'Karren'])\n",
      "People are aged the following: dict_values([23, 19, 78, 45])\n",
      "dict_keys(['Sue', 'Peter', 'Andrew', 'Karren'])\n",
      "['Andrew', 'Karren', 'Peter', 'Sue']\n",
      "dict_values([23, 19, 78, 45])\n",
      "[19, 23, 45, 78]\n",
      "The dictionary has 4 entries in it\n"
     ]
    }
   ],
   "source": [
    "#Algunos ejemplos de un Diccionario\n",
    "\n",
    "#Primero definimos el Diccionario\n",
    "#No tendrá nada en esta ocasión\n",
    "ages = {}\n",
    "\n",
    "#Agrega un par de nombres al Diccionario\n",
    "ages['Sue'] = 23\n",
    "ages['Peter'] = 19\n",
    "ages['Andrew'] = 78\n",
    "ages['Karren'] = 45\n",
    "\n",
    "# Usa la sentencia 'if' para encuentrar la llave (key) de la lista.\n",
    "# Recuerda - así es como funcionan las sentencias if -\n",
    "# se ejecutan si es verdadera\n",
    "# y no se ejecutan cuando es falso.\n",
    "\n",
    "if 'Sue' in ages:\n",
    "    print(\"Sue is in the dictionary. She is\", \\\n",
    "ages['Sue'], \"years old\")\n",
    "\n",
    "else:\n",
    "    print(\"Sue is not in the dictionary\")\n",
    "\n",
    "# Usa la función keys() - \n",
    "# Esta función regresa una lista\n",
    "# de todos los nombres de las llaves (keys).\n",
    "#E.g.\n",
    "print(\"The following people are in the dictionary:\")\n",
    "print(ages.keys())\n",
    "\n",
    "# Puedes utilizar esta función \n",
    "# para colocar todas los nombres de las llaves en una lista:\n",
    "keys = ages.keys()\n",
    "\n",
    "# Puedes obtener los valores de una lista\n",
    "# en un diccionario.\n",
    "# Usa la función  values():\n",
    "print(\"People are aged the following:\", \\\n",
    "ages.values())\n",
    "\n",
    "#Coloca en la lista:\n",
    "values = ages.values()\n",
    "\n",
    "# Puedes ordenar las listas, con la función sorted()\n",
    "# Ordenará todos los valores en una lista\n",
    "# alfabeticamente, numéricamente, etc...\n",
    "# No se pueden ordenar los diccionarios - \n",
    "# Estos no tienen un orden en particular\n",
    "print(keys)\n",
    "sortedkeys = sorted(keys)\n",
    "print(sortedkeys)\n",
    "\n",
    "print(values)\n",
    "sortedvalues = sorted(values)\n",
    "print(sortedvalues)\n",
    "\n",
    "# Puedes concoer el número de entradas\n",
    "# con la función len() :\n",
    "print(\"The dictionary has\", \\\n",
    "len(ages), \"entries in it\")"
   ]
  },
  {
   "cell_type": "markdown",
   "metadata": {},
   "source": [
    "## 5.3 Conclusiones\n",
    "Existen más funciones que puedes aplicar con listas y diccionarios - ya hay demasiadas cosas para repasar ahora. Dejemos la lección hasta aquí, hemos aprendido lo suficiente."
   ]
  },
  {
   "cell_type": "markdown",
   "metadata": {},
   "source": [
    "< [Funciones](PythonIntroCh4.ipynb) | [Contenidos](PythonIntro.ipynb) | [Ciclos](PythonIntroCh6.ipynb) >"
   ]
  }
 ],
 "metadata": {
  "interpreter": {
   "hash": "21ef2405432d1d6a5d9517ad853efb03bc32790aa17c5b57a0e9f161246dc2a4"
  },
  "kernelspec": {
   "display_name": "Python 3.9.4 64-bit ('gee': conda)",
   "name": "python3"
  },
  "language_info": {
   "codemirror_mode": {
    "name": "ipython",
    "version": 3
   },
   "file_extension": ".py",
   "mimetype": "text/x-python",
   "name": "python",
   "nbconvert_exporter": "python",
   "pygments_lexer": "ipython3",
   "version": "3.9.4"
  }
 },
 "nbformat": 4,
 "nbformat_minor": 2
}
