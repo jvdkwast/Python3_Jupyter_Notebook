{
 "cells": [
  {
   "cell_type": "markdown",
   "metadata": {},
   "source": [
    "< [Contents](PythonIntro.ipynb) | [Programs in a file, variables and strings](PythonIntroCh2.ipynb) >"
   ]
  },
  {
   "cell_type": "markdown",
   "metadata": {},
   "source": [
    "# 1. Programas sencillos\n",
    "## 1.1 Ejecuta Python desde la línea de comandos\n",
    "Para probar segmentos de código, podemos ejecutar Python desde la línea de comandos. En los Jupyter Notebook simularemos esto, puedes teclear los comandos en los campos y ejecutarlos.<br>\n",
    "In the field type:<br>\n",
    "```python\n",
    "print('Hello, World')\n",
    "```\n",
    "Presiona `<shift> + <return>` para ejecutar el comando.\n",
    "\n"
   ]
  },
  {
   "cell_type": "code",
   "execution_count": null,
   "metadata": {},
   "outputs": [],
   "source": []
  },
  {
   "cell_type": "markdown",
   "metadata": {},
   "source": [
    "¿Qué sucedió?\n",
    "\n",
    "Creaste tu primer programa que despliega las palabras 'Hello, World'. El ambiente Python environment que se utiliza compila inmediatamente todo lo que tecleas. Es útil para la prueba de ciertas cosas, por ejemplo, definir algunas variables y probrarlas para conocer si ciertas líneas podrían funcionar. Pienso, lo veremos en otra lección."
   ]
  },
  {
   "cell_type": "markdown",
   "metadata": {},
   "source": [
    "## 1.2 Matemáticas en Python\n",
    "Teclea<br>\n",
    "```python\n",
    "1 + 1\n",
    "```\n",
    "y ejecuta el código."
   ]
  },
  {
   "cell_type": "code",
   "execution_count": 1,
   "metadata": {
    "scrolled": true
   },
   "outputs": [
    {
     "data": {
      "text/plain": [
       "1"
      ]
     },
     "execution_count": 1,
     "metadata": {},
     "output_type": "execute_result"
    }
   ],
   "source": [
    " + 1"
   ]
  },
  {
   "cell_type": "markdown",
   "metadata": {},
   "source": [
    "Ahora teclea\n",
    "```python\n",
    "20 + 80\n",
    "```\n",
    "y ejecuta el código."
   ]
  },
  {
   "cell_type": "code",
   "execution_count": null,
   "metadata": {},
   "outputs": [],
   "source": []
  },
  {
   "cell_type": "markdown",
   "metadata": {},
   "source": [
    "Estas son sumas. Es posible utilizar otro tipo de operadores.<br>\n",
    "Intenta la resta:<br>\n",
    "```python\n",
    "6 - 5\n",
    "```"
   ]
  },
  {
   "cell_type": "code",
   "execution_count": null,
   "metadata": {},
   "outputs": [],
   "source": []
  },
  {
   "cell_type": "markdown",
   "metadata": {},
   "source": [
    "y la multiplicación:<br>\n",
    "```python\n",
    "2 * 5\n",
    "```"
   ]
  },
  {
   "cell_type": "code",
   "execution_count": null,
   "metadata": {},
   "outputs": [],
   "source": []
  },
  {
   "cell_type": "markdown",
   "metadata": {},
   "source": [
    "Prueba:\n",
    "```python\n",
    "5 ** 2\n",
    "```"
   ]
  },
  {
   "cell_type": "code",
   "execution_count": null,
   "metadata": {},
   "outputs": [],
   "source": []
  },
  {
   "cell_type": "markdown",
   "metadata": {},
   "source": [
    "`**` es el operador exponencial, ejecutamos el número 5 al cuadrado."
   ]
  },
  {
   "cell_type": "markdown",
   "metadata": {},
   "source": [
    "Teclea:\n",
    "```python\n",
    "print('1 + 2 is an addition')\n",
    "```"
   ]
  },
  {
   "cell_type": "code",
   "execution_count": null,
   "metadata": {},
   "outputs": [],
   "source": []
  },
  {
   "cell_type": "markdown",
   "metadata": {},
   "source": [
    "Observa que la sentencia `print` despliega algo en la pantalla.\n",
    "\n",
    "Prueba:\n",
    "```python\n",
    "print('one kilobyte is 2^10 bytes, or', 2 ** 10, 'bytes')\n",
    "```"
   ]
  },
  {
   "cell_type": "code",
   "execution_count": null,
   "metadata": {},
   "outputs": [],
   "source": []
  },
  {
   "cell_type": "markdown",
   "metadata": {},
   "source": [
    "Esto demuestra que puedes imprimir el texto y hacer cálculos en una frase. las comas separan cada sección, y son una forma de separación de las cadenas (text) de los cálculos o las variables."
   ]
  },
  {
   "cell_type": "markdown",
   "metadata": {},
   "source": []
  },
  {
   "cell_type": "markdown",
   "metadata": {},
   "source": [
    "Ahora prueba:\n",
    "```python\n",
    "23 / 3\n",
    "```"
   ]
  },
  {
   "cell_type": "code",
   "execution_count": null,
   "metadata": {},
   "outputs": [],
   "source": []
  },
  {
   "cell_type": "markdown",
   "metadata": {},
   "source": [
    "Y esto:<br>\n",
    "```python\n",
    "23 % 3\n",
    "```"
   ]
  },
  {
   "cell_type": "code",
   "execution_count": null,
   "metadata": {},
   "outputs": [],
   "source": []
  },
  {
   "cell_type": "markdown",
   "metadata": {},
   "source": [
    "`%` regresa el residuo de una división."
   ]
  },
  {
   "cell_type": "markdown",
   "metadata": {},
   "source": [
    "## 1.3 Precedencia de operadores"
   ]
  },
  {
   "cell_type": "markdown",
   "metadata": {},
   "source": [
    "Recuerdas esa cosa llamada precedencia de operadores que nos enseñaban en matemáticas. Bien, se aplica en Python también. Si requieres recordalos:<br>\n",
    "1. Parentesis`()`\n",
    "2. Exponentes `**`\n",
    "3. Multiplicación `*`, división `/` and residuo `%`\n",
    "4. Suma `+` y resta `-`"
   ]
  },
  {
   "cell_type": "markdown",
   "metadata": {},
   "source": [
    "Estos ejemplos que puedes probar, si andas oxidado en esto:<br>\n",
    "```python\n",
    "1 + 2 * 3\n",
    "(1 + 2) * 3\n",
    "```"
   ]
  },
  {
   "cell_type": "code",
   "execution_count": null,
   "metadata": {},
   "outputs": [],
   "source": []
  },
  {
   "cell_type": "code",
   "execution_count": null,
   "metadata": {},
   "outputs": [],
   "source": []
  },
  {
   "cell_type": "markdown",
   "metadata": {},
   "source": [
    "## 1.4 Commentarios por favor.\n",
    "La última cosa que requieres conocer para moverte a los programas multi-lineas es el comentario. Teclea lo siguiente (Y sí, muestra la salida):\n",
    "```python\n",
    "# Soy un comentario. Teme mi furia!\n",
    "```"
   ]
  },
  {
   "cell_type": "code",
   "execution_count": null,
   "metadata": {},
   "outputs": [],
   "source": []
  },
  {
   "cell_type": "markdown",
   "metadata": {},
   "source": [
    "Un comentario es una pieza de código que no se ejecuta. En Python, comenta colocando un hashtag (#) al inicio de la línea. El hashtag comenta todo lo que se encuentre después de este y nada antes de él. Así que teclea:\n",
    "```python\n",
    "print(\"La comida es muy rica\") #come me\n",
    "```"
   ]
  },
  {
   "cell_type": "code",
   "execution_count": null,
   "metadata": {},
   "outputs": [],
   "source": []
  },
  {
   "cell_type": "markdown",
   "metadata": {},
   "source": [
    "El resultado es una salida normal, sin el dichoso comentario, muchas gracias.\n",
    "\n",
    "Ahora prueba:\n",
    "```python\n",
    "# print(\"La comida es muy rica\")\n",
    "```"
   ]
  },
  {
   "cell_type": "code",
   "execution_count": null,
   "metadata": {},
   "outputs": [],
   "source": []
  },
  {
   "cell_type": "markdown",
   "metadata": {},
   "source": [
    "No pasa algo porque el código se encuentra después de un comentario."
   ]
  },
  {
   "cell_type": "markdown",
   "metadata": {},
   "source": [
    "Los comentarios son importante para documentar el programa que pueda consultar otro programador. Por ejemplo, una explicación de una sección de código, indicando que hace o si tiene algo mal. Podrías comentar código con el hashtag `#` delante de una línea de código - si no quieres que compile, pero no quieres borrarlo por podrías requerirlo después."
   ]
  },
  {
   "cell_type": "markdown",
   "metadata": {},
   "source": [
    "< [Contenido](PythonIntro.ipynb) | [Programas en un archivo, variables y cadenas](PythonIntroCh2.ipynb) >"
   ]
  }
 ],
 "metadata": {
  "interpreter": {
   "hash": "5280772cecbfc1b8d74142ceb7bf7d1e56134a3d99ae0731cafcc35c81276f3f"
  },
  "kernelspec": {
   "display_name": "Python 3.8.5 64-bit ('base': conda)",
   "name": "python3"
  },
  "language_info": {
   "codemirror_mode": {
    "name": "ipython",
    "version": 3
   },
   "file_extension": ".py",
   "mimetype": "text/x-python",
   "name": "python",
   "nbconvert_exporter": "python",
   "pygments_lexer": "ipython3",
   "version": "3.8.5"
  }
 },
 "nbformat": 4,
 "nbformat_minor": 2
}
