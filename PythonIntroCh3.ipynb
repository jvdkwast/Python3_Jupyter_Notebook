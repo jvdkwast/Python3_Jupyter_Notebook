{
 "cells": [
  {
   "cell_type": "markdown",
   "metadata": {},
   "source": [
    "< [Programas en una archivo, variables y cadenas](PythonIntroCh2.ipynb) | [Contenidos](PythonIntro.ipynb) | [Funciones](PythonIntroCh4.ipynb) >"
   ]
  },
  {
   "cell_type": "markdown",
   "metadata": {},
   "source": [
    "# 3. Ciclos, Ciclos, Ciclos, Ciclos...\n",
    "## 3.1 Introducción\n",
    "Nuestra última lección antes de interactuar con entradas de valores manuales. ¿No puedes esperar, verdad?\n",
    "\n",
    "Imagina que requieres un programa que necesitas que haga 20 veces una cosa. ¿Qué harías? Podrías copiar y pegar el codigo 20 veces y tendrías eventualemnte un programa poco legible, por no decir lento e inútil. O podrías indicarle a la computadora que repita una sección de código 20 veces entre el punto A y el punto B, hasta que termine y se detenga. Una acción así es llamada Ciclo.\n",
    "\n",
    "## 3.2 El Ciclo 'While'\n",
    "Los siguientes son ejemplos de un tipo de Ciclo llamado 'While':\n"
   ]
  },
  {
   "cell_type": "code",
   "execution_count": null,
   "metadata": {},
   "outputs": [],
   "source": [
    "a = 0\n",
    "while a < 10:\n",
    "    a = a + 1\n",
    "    print(a)"
   ]
  },
  {
   "cell_type": "markdown",
   "metadata": {},
   "source": [
    "¿Cómo funciona este programa? Veamos:\n",
    "```\n",
    "'a' ahora vale 0\n",
    "Siempre que 'a' sea menor que 10, has lo siguiente:\n",
    "   Haz 'a' uno más grande de lo que es.\n",
    "   Imprime en pantalla lo que vale ahora 'a'.\n",
    "```"
   ]
  },
  {
   "cell_type": "markdown",
   "metadata": {},
   "source": [
    "¿Qué hace esto? Revisemos lo que la computadora \"piensa\" cuando se encuentra en el ciclo  'while':"
   ]
  },
  {
   "cell_type": "markdown",
   "metadata": {},
   "source": [
    "```\n",
    "#SÓLO MIRA ESTO RÁPIDAMENTE\n",
    "#(Esto parece fantástico pero es realmente simple)\n",
    "Es 'a' menor a 10? Si (es 0)\n",
    "Haz 'a' suma uno (ahora es 1)\n",
    "Imprime en pantalla el valor de a (1) \n",
    "\n",
    "Es 'a' menor a 10? Si (es 1)\n",
    "Haz 'a' suma uno (ahora es 2)\n",
    "Imprime en pantalla el valor de a (2) \n",
    "\n",
    "Es 'a' menor a 10? Si (es 2)\n",
    "Haz 'a' suma uno (ahora es 3)\n",
    "Imprime en pantalla el valor de a (3) \n",
    "\n",
    "Es 'a' menor a 10? Si (es 3)\n",
    "Haz 'a' suma uno (ahora es 4)\n",
    "Imprime en pantalla el valor de a (4) \n",
    "\n",
    "Es 'a' menor a 10? Si (es 4)\n",
    "Haz 'a' suma uno (ahora es 5)\n",
    "Imprime en pantalla el valor de a (5) \n",
    "\n",
    "Es 'a' menor a 10? Si (es 5)\n",
    "Haz 'a' suma uno (ahora es 6)\n",
    "Imprime en pantalla el valor de a (6) \n",
    "\n",
    "Es 'a' menor a 10? Si (es 6)\n",
    "Haz 'a' suma uno (ahora es 7)\n",
    "Imprime en pantalla el valor de a (7) \n",
    "\n",
    "Es 'a' menor a 10? Si (Aún estas aquí?)\n",
    "Haz 'a' suma uno (ahora es 8)\n",
    "Imprime en pantalla el valor de a (8) \n",
    "\n",
    "Es 'a' menor a 10? Si (es 8)\n",
    "Haz 'a' suma uno (ahora es 9)\n",
    "Imprime en pantalla el valor de a (9) \n",
    "\n",
    "Es 'a' menor a 10? Si (es 9)\n",
    "Haz 'a' suma uno (ahora es 10)\n",
    "Imprime en pantalla el valor de a (10) \n",
    "\n",
    "Es 'a' menor a 10? NO (es 10, por lo tanto no es menor a 10)\n",
    "No realices el Ciclo\n",
    "\n",
    "Haz 'a' suma uno (ahora es 3)\n",
    "Imprime en pantalla el valor de a (3) \n",
    "No hay código por realizar, así que el programa finaliza.\n",
    "```"
   ]
  },
  {
   "cell_type": "markdown",
   "metadata": {},
   "source": [
    "En resumen, intenta pensar de esta forma cuando escribas ciclos 'While'. Así es como las escribes (sintaxis):\n",
    "```\n",
    "while {condición que hace que el ciclo continue}:\n",
    "    {Que hace el ciclo}\n",
    "    {se requiere una identación, por lo regular cuatro espacios}\n",
    "Este código no se encuentra en el ciclo\n",
    "porque no se encuentra identado.\n",
    "```"
   ]
  },
  {
   "cell_type": "markdown",
   "metadata": {},
   "source": [
    "Ahora, intenta entender el ejemplo y ejecuta la celda para ver si es lo que esperas."
   ]
  },
  {
   "cell_type": "code",
   "execution_count": null,
   "metadata": {},
   "outputs": [],
   "source": [
    "x = 10\n",
    "while x != 0:\n",
    "    print(x)\n",
    "    x = x - 1\n",
    "    print(\"wow, we've counted x down, and now it equals\", x)\n",
    "print(\"And now the loop has ended.\")"
   ]
  },
  {
   "cell_type": "markdown",
   "metadata": {},
   "source": [
    "## 3.3 Expresiones booleanas (Boolen... que?!?)\n",
    "¿Qué escribes en el área indicada  `{condiciones para que el ciclo continue}`? La respuesta es una expresión booleana.<br>\n",
    "¿Qué? Un concepto olvidado para las personas que no utilizan matemáticas. No importa, las expresiones booleana sólo significan una pregunta que puede responderse con una respuesta VERDADERA (TRUE) o FALSA (FALSE). Por ejemplo, si deseas preguntar si tu edad es la misma que la de la persona de al lado, podrías teclear:\n",
    "\n",
    "`Mi edad == la edad de la persona al lado`\n",
    "\n",
    "La sentencia podría ser TRUE. Si eres más joven que la persona frente a mi, podrías indicar:\n",
    "\n",
    "`Mi edad < la edad de la persona frente a mi`\n",
    "\n",
    "La sentencia podría ser TRUE. Sin embargo si la persona de enfrente es más joven que tú:\n",
    "\n",
    "`Mi edad < la edad de la persona enfrente de mi`\n",
    "\n",
    "La sentencia podría ser FALSE - la verdad es que al reves. Es así como piensa un ciclo - Si la condición es verdadera mantén el ciclo. Si es falso, termina el ciclo. Con esto en mente, echemos un vistazo con los operadores (los símbolos representan una acción) que se involucran en las expresiones booleanas:<br>\n",
    "\n",
    "| Expresiones | Funciones  |\n",
    "|   :---:    |   :---:   |\n",
    "|    `<`     | Menor que |\n",
    "| `<=` | Menor o igual a |\n",
    "| `>` | Mayor que |\n",
    "| `>=` | Mayor que o igual a |\n",
    "| `!=` | No igual |\n",
    "| `<>` | No igual (alternativo) |\n",
    "| `==` | Igual a |\n",
    "\n",
    "No confundas `=` y `==`  - el `=` operador hace que lo que se encuentra a la izquierda se asigna a la derecha. El `==` operador indica que tanto una cosa de la izquierdo es la misma que la del lado derecho y regresa un valor True o False.\n",
    "\n",
    "\n"
   ]
  },
  {
   "cell_type": "markdown",
   "metadata": {},
   "source": [
    "## 3.4 Sentencias condicionales\n",
    "OK! Hemos aprendido (con suerte) los ciclos 'While'.Ahora veamos algo un poco diferente - los condicionales. <br>\n",
    "Los condicionales son una sección de código que sólo se ejecuta si se cumplen determinadas condiciones. Esto es similar al ciclo 'while' que  acaba de escribir, sólo se ejecuta cuando \"x\" no es igual a cero. Sin embargo, los condicionales sólo se ejecutan una vez. La sentencia condicional más común en cualquier lenguaje de programación es 'IF', Y funciona así:<br>\n",
    "```\n",
    "if {condiciones que deben cumplirse}:\n",
    "    {hacer esto}\n",
    "    {y esto}\n",
    "    {y esto}\n",
    "{pero esto sucede en fuera de la condición}\n",
    "{porque no tiene sangría}\n",
    "```\n",
    "<br>\n",
    "Ahora algunos ejemplos en Python:"
   ]
  },
  {
   "cell_type": "code",
   "execution_count": null,
   "metadata": {},
   "outputs": [],
   "source": [
    "#EXAMPLE 1\n",
    "y = 1\n",
    "if y == 1:\n",
    "    print(\"y still equals 1, I was just checking\")"
   ]
  },
  {
   "cell_type": "code",
   "execution_count": null,
   "metadata": {},
   "outputs": [],
   "source": [
    "#EXAMPLE 2\n",
    "print(\"We will show the even numbers up to 20\")\n",
    "n = 1\n",
    "while n <= 20:\n",
    "    if n % 2 == 0:\n",
    "        print(n)\n",
    "    n = n + 1\n",
    "print(\"there, done.\")"
   ]
  },
  {
   "cell_type": "markdown",
   "metadata": {},
   "source": [
    "El ejemplo 2 parece complicado. Pero lo que hemos hecho es correr una sentencia \"if\" en cada ciclo de `while`. Recuerda que `%` es el resto de una división - sólo verifica que no quede algo si el número se divide entre dos - lo que demuestre que es par. Imprime que `n` es par."
   ]
  },
  {
   "cell_type": "markdown",
   "metadata": {},
   "source": [
    "## 3.5 `else` y `elif` -  Cuando la sentencia no es verdadera\n",
    "Hay muchas formas que puedes usar la sentencia `if` para tratar una expresión que es falsa. Estas son `else` y `elif`.<br>\n",
    "`else` simplemente le dice a la computadora que hacer si la condición `if` no son encontradas. Por ejemplo, revisa lo siguiente:"
   ]
  },
  {
   "cell_type": "code",
   "execution_count": null,
   "metadata": {},
   "outputs": [],
   "source": [
    "a = 1\n",
    "if a > 5:\n",
    "    print(\"No debería ocurrir\")\n",
    "else:\n",
    "    print(\"Debe ocurrir\")"
   ]
  },
  {
   "cell_type": "markdown",
   "metadata": {},
   "source": [
    "`a` no es mayor que cinco, por lo tanto se hace lo que se encuentra debajo del `else`.\n",
    "\n",
    "`elif` es sólo una forma abreviada de indicar  `else if`. Cuanco la sentencia  `if` falla en ser verdadera, `elif` realizará lo que se encuentra debajo del IF si se cumplen las condiciones, Por ejemplo:"
   ]
  },
  {
   "cell_type": "code",
   "execution_count": null,
   "metadata": {},
   "outputs": [],
   "source": [
    "z = 4\n",
    "if z > 70:\n",
    "    print(\"Something is very wrong\")\n",
    "elif z < 7:\n",
    "    print(\"This is normal\")\n"
   ]
  },
  {
   "cell_type": "markdown",
   "metadata": {},
   "source": [
    "La sentencia  `if`, a lo largo de `else` y `elif` sigue esta forma:\n",
    "```Python\n",
    "if {conditiones}:\n",
    "    {corre este código}\n",
    "elif {conditiones}:\n",
    "    {corre este código}\n",
    "elif {conditiones}:\n",
    "    {corre este código}\n",
    "else:\n",
    "    {corre este código}\n",
    "#Puedes tener tantas declaracion elif como desees\n",
    "#desde cualquier lugar desde cero hasta el cielo.\n",
    "#Puedes tener como máximo una declaración más\n",
    "#y sólo despúes de todos los ifs y elifs.\n",
    "```"
   ]
  },
  {
   "cell_type": "markdown",
   "metadata": {},
   "source": [
    "***Una de los más importantes puntos para recordar esto es que deben tener dos puntos  `:` al final de cada línea un `if`, `elif`, `else` o `while` en este.***"
   ]
  },
  {
   "cell_type": "markdown",
   "metadata": {},
   "source": [
    "## 3.6 Indentación (sangrías)\n",
    "\n",
    "Otro punto es que el código a ejecutarse si las condiciones son encontradas, DEBEN INSENTARSE. Esto significa que si deseas un Ciclo, las siguientes cinco líneas en un ciclo \n",
    " `while`, debes colocar una serie de espacios al principio de cada línea. Es una buena práctica de programación en cualquier lenguaje, pero Python requiere que realices esto. Este es un ejemplo de los puntos descritos anteriormente:"
   ]
  },
  {
   "cell_type": "code",
   "execution_count": null,
   "metadata": {},
   "outputs": [],
   "source": [
    "a = 10\n",
    "while a > 0:\n",
    "    print(a)\n",
    "    if a > 5:\n",
    "        print(\"Un número grande!\")\n",
    "    elif a % 2 != 0:\n",
    "        print(\"Este es un número impar\")\n",
    "        print(\"Este es más grande que cinco, cualquiera\")\n",
    "    else:\n",
    "        print(\"Estes no es un número mayor que cinco\")\n",
    "        print(\"No es impar\")\n",
    "        print(\"te sientes especial?\")\n",
    "    a = a - 1\n",
    "    print(\"restamos uno a la variable 'a'!\")\n",
    "    print(\"y a menos que a no sea mayor que 0, haremos el ciclo nuevamente.\")\n",
    "print(\"bien, al parecer como si 'a' ahora no es mayor que 0!\")\n",
    "print(\"el ciclo se ha terminado, y sin más preámbulo, el programa ha terminado!\")"
   ]
  },
  {
   "cell_type": "markdown",
   "metadata": {},
   "source": [
    "Considera que los tres niveles de indentación (sangrías):\n",
    "1.\tCada línea en el primer nivel empieza sin espacios. Es el programa principal  y siempre debería ejecutarse.\n",
    "2.\tCada linea en el segundo nivel empieza con cuatro espacios. Donde hay una condicional `if` o un ciclo en el primer nivel, todo sobre el segundo nivel se ejecutará mientras cumpla con el ciclo o condicional,hasta que se encuentre una nueva línea del primer nivel nuevamente.\n",
    "3.  Cada linea en el tercer  nivel empieza con ocho espacios. Donde hay una condicional `if` o un ciclo en el segundo nivel, todo sobre el tercer nivel se ejecutará mientras cumpla con el ciclo o condicional,hasta que se encuentre una nueva línea del segundo nivel nuevamente.\n",
    "4.\tEsto continúa infinitamente, hasta que la persona que escribe el programa tiene una explosión cerebral, y no puede entender nada de lo que ha escrito."
   ]
  },
  {
   "cell_type": "markdown",
   "metadata": {},
   "source": [
    "Existe otro tipo de Ciclo llamado 'FOR',  pero cubriremos esto en una lección posterior, después de que hayamos aprendido acerca de las listas.\n",
    "## 3.7 Conclusiones\n",
    "Y esta fue la lección 3! En la lección 4, nos adentramos en la interacción con el usuarios, y escritura de programas con ese propósito. ¡No puedo esperar!"
   ]
  },
  {
   "cell_type": "markdown",
   "metadata": {},
   "source": [
    "< [Programas enun archivo, variables y cadenas](PythonIntroCh2.ipynb) | [Contenido](PythonIntro.ipynb) | [Funciones](PythonIntroCh4.ipynb) >"
   ]
  }
 ],
 "metadata": {
  "kernelspec": {
   "display_name": "Python 3",
   "language": "python",
   "name": "python3"
  },
  "language_info": {
   "codemirror_mode": {
    "name": "ipython",
    "version": 3
   },
   "file_extension": ".py",
   "mimetype": "text/x-python",
   "name": "python",
   "nbconvert_exporter": "python",
   "pygments_lexer": "ipython3",
   "version": "3.6.5"
  }
 },
 "nbformat": 4,
 "nbformat_minor": 2
}
