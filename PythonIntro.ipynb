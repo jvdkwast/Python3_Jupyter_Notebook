{
 "cells": [
  {
   "cell_type": "markdown",
   "source": [
    "# Una introducción a la secuencia de comandos (Scripting) en Python 3\n",
    "Por __[Hans van der Kwast](http://www.linkedin.com/in/jvdkwast)__<br>\n",
    "__[IHE Delft Institute for Water Education](http://www.un-ihe.org)__<br>\n",
    "Twitter: @hansakwast\n",
    "\n",
    "\n",
    "## Contentido\n",
    "### __[Lección 1: Programas sencillos](PythonIntroCh1.ipynb)__\n",
    "### __[Lección 2: Programas en un archivo, variables y cadenas](PythonIntroCh2.ipynb)__\n",
    "### __[Lección 3: Ciclos, Ciclos, Ciclos, Ciclos...](PythonIntroCh3.ipynb)__\n",
    "### __[Lección 4: Funciones](PythonIntroCh4.ipynb)__\n",
    "### __[Lección 5: Tuplas, Listas y  Diccionarios](PythonIntroCh5.ipynb)__\n",
    "### __[Lección 6: Ciclo For ](PythonIntroCh6.ipynb)__\n",
    "### __[Lección 7: Clases](PythonIntroCh7.ipynb)__\n",
    "### __[Lección 8: Módulos](PythonIntroCh8.ipynb)__\n",
    "### __[Lección 9: Archivos I/O](PythonIntroCh9.ipynb)__\n",
    "### __[Lección 10: Manejo de Excepciones](PythonIntroCh10.ipynb)__\n",
    "<br>\n",
    "<br>\n",
    "\n",
    "*Este Jupyter Notebook basado en \"A Beginner's Python Tutorial\" por Steven Thurlow. El __[material original](https://github.com/stoive/pythontutorial)__ fue migrado a Python 3.*\n",
    "\n",
    "*Este trabajo se encuentra bajo la licencia Creative Commons Attribution 2.5 Australia License. Consulta una copia de esta licencia, visita el enlace http://creativecommons.org/licenses/by/2.5/au/ o envia una carta a Creative Commons, 444 Castro Street, Suite 900, Mountain View, California, 94041, USA.*"
   ],
   "metadata": {}
  }
 ],
 "metadata": {
  "kernelspec": {
   "display_name": "Python 3",
   "language": "python",
   "name": "python3"
  },
  "language_info": {
   "codemirror_mode": {
    "name": "ipython",
    "version": 3
   },
   "file_extension": ".py",
   "mimetype": "text/x-python",
   "name": "python",
   "nbconvert_exporter": "python",
   "pygments_lexer": "ipython3",
   "version": "3.6.5"
  }
 },
 "nbformat": 4,
 "nbformat_minor": 2
}