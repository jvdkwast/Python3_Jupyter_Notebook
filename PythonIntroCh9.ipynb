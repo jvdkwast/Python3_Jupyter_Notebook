{
 "cells": [
  {
   "cell_type": "markdown",
   "metadata": {},
   "source": [
    "< [Modulos](PythonIntroCh8.ipynb) | [Contenido](PythonIntro.ipynb) | [Manejo de excepciones](PythonIntroCh10.ipynb) >"
   ]
  },
  {
   "cell_type": "markdown",
   "metadata": {},
   "source": [
    "# 9. File I/O\n",
    "## 9.1 Introducción\n",
    "En la última lección aprendimos como cargar código externo en nuestro programa. Sin ninguna introducción (como lo que suele hacer), profundicemos en la entrada y salida con los archivos de texto, y después guardar y restaurar las instancias (objetos) de una clase. (¡Vaya! nuestro potencial lingüistico ha mejorado mucho).\n",
    "\n",
    "\n",
    "## 9.2 Abrir un archivo\n",
    "Para abrir un archivo de texto puedes utilizar la función `open()`. Parece razonable. Le pasarás ciertos parámetros a la función `open()` para indicar la forma en que el archivo debe ser abierto - `r` abrir sólo lectura, `w` abrir sólo escritura (si hay un archivo antiguo se escribirá sobre él), `a` para agregar (adicionar cosas al final de un archivo) y `r+` para ambos es decir, de lectura y escritura. Sin más platicas, abramos un archivo para lectura (puedes utilizar Spyder posteriormente en el curso). Abre un archivo de texto normal. después desplegaremos lo que leamos dentro del archivo:\n",
    "\n",
    "```Python\n",
    "filename = 'C:\\\\temp\\\\readme.txt' # path to file.\\ is un caracter de escape,requieres dos o usa / en su lugar.\n",
    "fl = open(filename, 'r') # Abre el archivo\n",
    "for line in fl:\n",
    "    print(line)\n",
    "fl.close() #Cierra el archivo\n",
    "```\n",
    "\n",
    "Una mejor forma de hacer esto es:\n",
    "```Python\n",
    "filename = 'C:\\\\temp\\\\readme.txt'\n",
    "with open(filename, 'r') as fl:\n",
    "    for line in fl:\n",
    "        print(line)\n",
    "```\n",
    "Con un segundo método no requieres agregar `fl.close`, se cierra automáticamente."
   ]
  },
  {
   "cell_type": "markdown",
   "metadata": {},
   "source": [
    "## 9.3 Busca y encontrarás\n",
    "Si deseas imprimir el archivo completo, en lugar de iterar sobre las líneas, puedes utilizar lo siguiente:\n",
    "\n",
    "```Python\n",
    "\n",
    "filename = 'C:\\\\temp\\\\readme.txt'\n",
    "fl = open(filename, 'r')\n",
    "print(fl.read())\n",
    "```\n",
    "¿Intento ejecutar `print(fl.read())` por segunda ocasión? fallo? Probablemente sí, la razón es porque el 'cursor' ha cambiado de lugar. ¿Cursor? ¿Qué cursor? Bien, un cursor realmente no puede verse, pero aún así es un cursor. Este cursor invisible le indica a la función de lectura (y otras funciones de entrada y salida)  donde empezar. Coloca y utiliza la función `seek()`. Sigue la siguiente sintaxis `seek(offset, whence)`.\n",
    "\n",
    "`whence` es opcional, y determina donde buscar. Si el parámetro `whence` es 0, los bytes/letters son contados desde el inicio. Si se coloca 1, los bytes son contados desde la posición del cursor actual. Si se coloca 2, entonces los bytes son contados desde el fin del archivo. Si no hay un valor colocado, se asume que por default es 0.\n",
    "\n",
    "`offset` decribes how far from `whence` that the cursor moves. for example:\n",
    "* `fl.seek(45,0)` podria mover el cursor de 45 bytes/letters después del inicio del archivo.\n",
    "* `fl.seek(10,1)` podria mover el cursor 10 bytes/letters después de la posición del cursos actual.\n",
    "* `fl.seek(-77,2)` podría mover el cursor 77 bytes/letters antes del final del archivo (considera a  - antes de 77)\n"
   ]
  },
  {
   "cell_type": "markdown",
   "metadata": {},
   "source": [
    "Podemos utiliza la función `fl.seek()` para ir a cualquier punto en el archivo y luego escribir `print(fl.read())`. Se imprimirá desde el punto en que se buscó. Considera que  `fl.read()` mueve el cursos al final del archivo - tendrás que buscar nuevamente.\n",
    "\n",
    "## 9.4 Otras Funciones de entrada y salida ( I/O )\n",
    "Hay otras funciones que ayudan con el manejo de funciones. Tienen muchos usos que te permiten hacer las cosas más fáciles. Echemos un vistazo a las funciones `tell()`, `readline()`, `readlines()`, `write()` y `close()`.\n",
    "\n",
    "`tell()` retorna el cursos en el inicio de un archivo. No tiene parámetros, simplemente escribelo como se muestra en el ejemplo de abajo. Esto es infinitamente útil, para saber a que se refiere, dónde está, y el simple control del cursor. Para usarlo, teclea `fileobjectname.tell()` - donde el nombre del objeto archivo se crea cuando abres el archivo (en `openfile = open('pathtofile', 'r')` el nombre del objeto es `openfile`).\n",
    "\n",
    "`readline()` lee desde donde se ecnuentra el cursor hasta el final de la línea. Recuerda que el final de la línea no es el fin de la pantalla - la línea termina cuando presionas <enter> para crear una nueva línea. Es útil para cosas como la lectura de logs, o recorrer algo para procesarlo. No hay parámetros que pases a `readline()`, aunque opcionalmente puedes indicar el número máximo de bytes/letras para leer, colocando un número entre paréntesis. Se utiliza así: `fileobjectname.readline()`.<br>\n",
    "\n",
    "`readlines()` es más como  `readline()`, sin embargo `readlines()` lee todas las líneas desde el cursor en adelante, y devuelve una lista, con cada elemento de la lista  conteniendo una línea de código. Utilizala como `fileobjectname.readlines()`. Por ejemplo, si tienes una archivo de texto:\n",
    "\n",
    "```\n",
    "Line 1\n",
    "\n",
    "Line 3\n",
    "Line 4\n",
    "\n",
    "Line 6\n",
    "```\n",
    "entonces la lista que regresa de la función `readlines()` podría ser:<br>\n",
    "\n",
    "| Index | Value |\n",
    "| :--: | :--: |\n",
    "| 0 | 'Line 1' |\n",
    "| 1 | \" |\n",
    "| 2 | 'Line 3' |\n",
    "| 3 | 'Line 4' |\n",
    "| 4 | \" |\n",
    "| 5 | 'Line 6' |\n",
    "\n",
    "La función  `write()` escribe hacia el archivo. ¿Cómo las adivinado? Escribe desde donde esta el cursor, y sobreescribe el texto delante de él - como MS Word, donde presionas 'insert' y escribe encima del texto antiguo . Para utilizar esta función tan útil, coloca una cadena entre los paréntesis para escribir, por ejemplo `fileobjectname.write('this is a string')`.\n",
    "\n",
    "El botón `close`, cierra el archivo para que no se pueda leer o escribir en él hasta que se vuelva abrir. Es muy sencillo. Para usarlo, debes escribir `fileobjectname.close()`. Simple!\n",
    "\n",
    "Más adelante en el curso, puedes probar en la línea de comando de Python. Abre un archivo de prueba (o crea uno) y juega con estas funciones . Puedes hacer una edición de texto (y muy inconveniente)."
   ]
  },
  {
   "cell_type": "markdown",
   "metadata": {},
   "source": [
    "## 9.5 Mmm, Pepinillos\n",
    "Los pepinillos en Python son para comerse. Su sabor es demasiado bueno para que los programadores lo dejen en el refrigerador.\n",
    "\n",
    "Ok, sólo bromeaba. Los pepinillos en Python son objetos guardados en un archivo. Un objeto en este caso puede ser una variable, una instancia de clase, o una lista, diccionario o una tupla. Se pueden guardar otras cosas pero con límites. El objeto puede ser restaurado, o desencapsulado más tarde. En otras paralabras estas \"guardando\" tus objetos.\n",
    "\n",
    "¿Cómo se hace un pepinillo? Con la función `dump()`, la cuál se encuentra dentro del módulo Pepinillo - así que al principio de tu programa escribirás `import pickle`. ¿Es bastante sencillo? Luego abre un archivo vacío y usa `pickle.dump()` para soltar el objeto dentro de un archivo. Vamos a probar:\n",
    "\n",
    "```Python\n",
    "### pickletest.py\n",
    "### PICKLE AN OBJECT\n",
    "\n",
    "# import the pickle module\n",
    "import pickle\n",
    "\n",
    "# lets create something to be pickled\n",
    "# How about a list?\n",
    "picklelist = ['one',2,'three','four',5,'can you count?']\n",
    "\n",
    "# now create a file\n",
    "# replace filename with the file you want to create\n",
    "# wb means that it's written in a binary file\n",
    "file = open('filename', 'wb')\n",
    "\n",
    "# now let's pickle picklelist\n",
    "pickle.dump(picklelist,file)\n",
    "\n",
    "# close the file, and your pickling is complete\n",
    "file.close()\n",
    "```\n",
    "\n",
    "El código para hacer esto como `pickle.dump(object_to_pickle, file_object)` donde:\n",
    "* `object_to_pickle` es el objeto que se desea conservar (i.e. salvar a un archivo)\n",
    "* `file_object` es el objeto que deseas escribir a (en este caso, el objeto archivo es `file`)"
   ]
  },
  {
   "cell_type": "markdown",
   "metadata": {},
   "source": [
    "\n",
    "Ahora, reabramos o deshagamos, nuestro archivo utilizando `pickle.load()`:<br>\n",
    "```Python\n",
    "### unpickletest.py\n",
    "### unpickle file\n",
    "\n",
    "# import the pickle module\n",
    "import pickle\n",
    "\n",
    "# now open a file for reading\n",
    "# replace filename with the path to the file you created in pickletest.py\n",
    "unpicklefile = open('filename', 'rb')\n",
    "\n",
    "# now load the list that we pickled into a new object\n",
    "unpickledlist = pickle.load(unpicklefile)\n",
    "\n",
    "# close the file, just for safety\n",
    "unpicklefile.close()\n",
    "\n",
    "# Try out using the list\n",
    "for item in unpickledlist:\n",
    "    print(item)\n",
    "```\n",
    "Genial, eh?<br>\n",
    "\n",
    "Por supuesto, la limitación arriba es que sólo se puede colocar un objeto en el archivo. Podríamos evitar esto colocando muchos objetos seleccionables en una lista o diccionario y despúes los seleccionamos. Es la forma más rápida y sencilla, pero puedes hacer cosas bastantes avanzadas si tienes conocimientos avanzados.<br>\n",
    "    \n",
    "Lo cual no trataremos aquí."
   ]
  },
  {
   "cell_type": "markdown",
   "metadata": {},
   "source": [
    "< [Módulos](PythonIntroCh8.ipynb) | [Contenidos](PythonIntro.ipynb) | [Manejo de excepciones](PythonIntroCh10.ipynb) >"
   ]
  },
  {
   "cell_type": "markdown",
   "metadata": {},
   "source": []
  }
 ],
 "metadata": {
  "kernelspec": {
   "display_name": "Python 3",
   "language": "python",
   "name": "python3"
  },
  "language_info": {
   "codemirror_mode": {
    "name": "ipython",
    "version": 3
   },
   "file_extension": ".py",
   "mimetype": "text/x-python",
   "name": "python",
   "nbconvert_exporter": "python",
   "pygments_lexer": "ipython3",
   "version": "3.6.5"
  }
 },
 "nbformat": 4,
 "nbformat_minor": 2
}
