{
 "cells": [
  {
   "cell_type": "markdown",
   "metadata": {},
   "source": [
    "< [File I/O](PythonIntroCh9.ipynb) | [Contenido](PythonIntro.ipynb) >"
   ]
  },
  {
   "cell_type": "markdown",
   "metadata": {},
   "source": [
    "# 10. Manejo de excepciones\n",
    "## 10.1 Introducción\n",
    "Si no los has visto antes es porque no te has esforzado lo suficiente. ¿Qué son? Los errores. Problemas. ¿Sabes de que hablo? Lo muestro en el siguiente programa:<br>"
   ]
  },
  {
   "cell_type": "code",
   "execution_count": 2,
   "metadata": {},
   "outputs": [
    {
     "name": "stdout",
     "output_type": "stream",
     "text": [
      "1) A\n",
      "2) B\n",
      "3) C\n",
      "4) D\n",
      "5) E\n",
      "6) F\n",
      "7) H\n",
      "8) I\n"
     ]
    },
    {
     "ename": "TypeError",
     "evalue": "unsupported operand type(s) for -: 'str' and 'int'",
     "output_type": "error",
     "traceback": [
      "\u001b[0;31m---------------------------------------------------------------------------\u001b[0m",
      "\u001b[0;31mTypeError\u001b[0m                                 Traceback (most recent call last)",
      "\u001b[0;32m<ipython-input-2-85a65febd264>\u001b[0m in \u001b[0;36m<module>\u001b[0;34m\u001b[0m\n\u001b[1;32m      8\u001b[0m \u001b[0;31m# ejecuta la función\u001b[0m\u001b[0;34m\u001b[0m\u001b[0;34m\u001b[0m\u001b[0;34m\u001b[0m\u001b[0m\n\u001b[1;32m      9\u001b[0m \u001b[0;31m# recuerda lo que implica el backslash al final de la línea\u001b[0m\u001b[0;34m\u001b[0m\u001b[0;34m\u001b[0m\u001b[0;34m\u001b[0m\u001b[0m\n\u001b[0;32m---> 10\u001b[0;31m answer = menu(['A','B','C','D','E','F','H','I'],\\\n\u001b[0m\u001b[1;32m     11\u001b[0m 'Cuál es tu letra favorita? ')\n\u001b[1;32m     12\u001b[0m \u001b[0;34m\u001b[0m\u001b[0m\n",
      "\u001b[0;32m<ipython-input-2-85a65febd264>\u001b[0m in \u001b[0;36mmenu\u001b[0;34m(list, question)\u001b[0m\n\u001b[1;32m      4\u001b[0m         \u001b[0mprint\u001b[0m\u001b[0;34m(\u001b[0m\u001b[0;34m\") \"\u001b[0m \u001b[0;34m+\u001b[0m \u001b[0mentry\u001b[0m\u001b[0;34m)\u001b[0m\u001b[0;34m\u001b[0m\u001b[0;34m\u001b[0m\u001b[0m\n\u001b[1;32m      5\u001b[0m \u001b[0;34m\u001b[0m\u001b[0m\n\u001b[0;32m----> 6\u001b[0;31m     \u001b[0;32mreturn\u001b[0m \u001b[0minput\u001b[0m\u001b[0;34m(\u001b[0m\u001b[0mquestion\u001b[0m\u001b[0;34m)\u001b[0m \u001b[0;34m-\u001b[0m \u001b[0;36m1\u001b[0m\u001b[0;34m\u001b[0m\u001b[0;34m\u001b[0m\u001b[0m\n\u001b[0m\u001b[1;32m      7\u001b[0m \u001b[0;34m\u001b[0m\u001b[0m\n\u001b[1;32m      8\u001b[0m \u001b[0;31m# ejecuta la función\u001b[0m\u001b[0;34m\u001b[0m\u001b[0;34m\u001b[0m\u001b[0;34m\u001b[0m\u001b[0m\n",
      "\u001b[0;31mTypeError\u001b[0m: unsupported operand type(s) for -: 'str' and 'int'"
     ]
    }
   ],
   "source": [
    "def menu(list, question):\n",
    "    for entry in list:\n",
    "        print(1 + list.index(entry),end=\"\")\n",
    "        print(\") \" + entry)\n",
    "\n",
    "    return input(question) - 1\n",
    "\n",
    "# ejecuta la función\n",
    "# recuerda lo que implica el backslash al final de la línea\n",
    "answer = menu(['A','B','C','D','E','F','H','I'],\\\n",
    "'Cuál es tu letra favorita? ')\n",
    "\n",
    "print('Selecciona una letra ' + str(answer + 1))"
   ]
  },
  {
   "cell_type": "markdown",
   "metadata": {},
   "source": [
    "Este es un ejemplo del programa de menú que hicimos antes. A mi me parece que está perfectamente bien. Al menos hasta que lo ejecute por primera vez. Corre el programa y ¿Qué sucede?"
   ]
  },
  {
   "cell_type": "markdown",
   "metadata": {},
   "source": [
    "## 10.2 Bugs - Errores humanos\n",
    "Los problemas más comunes con tu código es que tú lo realizaste. Triste pero cierto. ¿Qué observamos cuando intentamos ejecutar nuestro programa trabado? \n",
    "\n",
    "```Python\n",
    "---------------------------------------------------------------------------\n",
    "TypeError                                 Traceback (most recent call last)\n",
    "<ipython-input-2-1502b4586513> in <module>()\n",
    "      8 # running the function\n",
    "      9 # remember what the backslash does\n",
    "---> 10 answer = menu(['A','B','C','D','E','F','H','I'],'Which letter is your favourite? ')\n",
    "     11 \n",
    "     12 print('You picked answer ' + str(answer + 1))\n",
    "\n",
    "<ipython-input-2-1502b4586513> in menu(list, question)\n",
    "      4         print(\") \" + entry)\n",
    "      5 \n",
    "----> 6     return input(question) - 1\n",
    "      7 \n",
    "      8 # running the function\n",
    "\n",
    "TypeError: unsupported operand type(s) for -: 'str' and 'int'\n",
    "```"
   ]
  },
  {
   "cell_type": "markdown",
   "metadata": {},
   "source": [
    "¿Qué dice? Que Python esta tratando de decirte (pero le cuesta encontrar una buena palabra para ello) es que no puedes unir una cadena de letras y números en una cadena de texto. Repasemos el mensaje de error y revisemos lo que nos indica:\n",
    "\n",
    "* `--->` se muestran las líneas dondes el error es identificado, observa que primero señala la línea 10 (la cadena) y después la línea 6 (el cálculo donde restamos un entero de una cadena). Observa que la línea 6 se encuentra la función.\n",
    "* `TypeError: unsupported operand type(s) for -: 'str' and 'int'` indica el error, en este caso, es un error 'TypeError', donde has intentado restar variables con tipo de datos incompatibles."
   ]
  },
  {
   "cell_type": "markdown",
   "metadata": {},
   "source": [
    "Hay múltiples archivos y código listado para un sólo error, porque el error ocurre con la interacción de dos líneas de código (ejemplo cuando utilizas, el error ocurre sobre la línea donde la función es llamada, Y la línea en la función donde las cosas van mal).\n",
    "\n",
    "Ahora que conocemos el problema, como podemos arreglarlo. Bien, el mensaje de error tiene ha sido aislado donde el problema se encuentra, así nos concentraremos en una sección de código.\n",
    "\n",
    "```Python\n",
    "answer = menu(['A','B','C','D','E','F','H','I'],\\\n",
    "'Which letter is your favourite? ')\n",
    "```\n",
    "La llamada a la función. El error ocurre en la función en la siguiente línea:\n",
    "```Python\n",
    "    return input(question) - 1\n",
    "```\n",
    "`input` siempre regresa una cadena, he aquí nuestro problema. Cambiemos a la función a `eval(input())`, la cuál, cuando tecleas un número, se regresa un número:\n",
    "```Python\n",
    "    return eval(input(question)) - 1\n",
    "```\n",
    "Bug arreglado!"
   ]
  },
  {
   "cell_type": "markdown",
   "metadata": {},
   "source": [
    "## 10.3 Excepciones - Limitaciones del código\n",
    "OK, el programa trabaja cuando realizas las cosas normales, pero que pasa cuando intentas algo raro? Teclea una letra (dígamos 'm') en lugar de un número? \n",
    "Whoops!"
   ]
  },
  {
   "cell_type": "code",
   "execution_count": 3,
   "metadata": {},
   "outputs": [
    {
     "name": "stdout",
     "output_type": "stream",
     "text": [
      "1) A\n",
      "2) B\n",
      "3) C\n",
      "4) D\n",
      "5) E\n",
      "6) F\n",
      "7) H\n",
      "8) I\n"
     ]
    },
    {
     "ename": "SyntaxError",
     "evalue": "unexpected EOF while parsing (<string>, line 0)",
     "output_type": "error",
     "traceback": [
      "Traceback \u001b[0;36m(most recent call last)\u001b[0m:\n",
      "  File \u001b[1;32m\"/data/miniconda3/envs/gee/lib/python3.9/site-packages/IPython/core/interactiveshell.py\"\u001b[0m, line \u001b[1;32m3437\u001b[0m, in \u001b[1;35mrun_code\u001b[0m\n    exec(code_obj, self.user_global_ns, self.user_ns)\n",
      "  File \u001b[1;32m\"<ipython-input-3-e19eb9ace16d>\"\u001b[0m, line \u001b[1;32m10\u001b[0m, in \u001b[1;35m<module>\u001b[0m\n    answer = menu(['A','B','C','D','E','F','H','I'],\\\n",
      "\u001b[0;36m  File \u001b[0;32m\"<ipython-input-3-e19eb9ace16d>\"\u001b[0;36m, line \u001b[0;32m6\u001b[0;36m, in \u001b[0;35mmenu\u001b[0;36m\u001b[0m\n\u001b[0;31m    return eval(input(question)) - 1\u001b[0m\n",
      "\u001b[0;36m  File \u001b[0;32m\"<string>\"\u001b[0;36m, line \u001b[0;32munknown\u001b[0m\n\u001b[0;31m    \u001b[0m\n\u001b[0m    ^\u001b[0m\n\u001b[0;31mSyntaxError\u001b[0m\u001b[0;31m:\u001b[0m unexpected EOF while parsing\n"
     ]
    }
   ],
   "source": [
    "def menu(list, question):\n",
    "    for entry in list:\n",
    "        print(1 + list.index(entry),end=\"\")\n",
    "        print(\") \" + entry)\n",
    "\n",
    "    return eval(input(question)) - 1\n",
    "\n",
    "# ejecuta la función\n",
    "# recuerda lo que el backslash realiza \n",
    "answer = menu(['A','B','C','D','E','F','H','I'],\\\n",
    "'Which letter is your favourite? ')\n",
    "\n",
    "print('You picked answer ' + str(answer + 1))"
   ]
  },
  {
   "cell_type": "markdown",
   "metadata": {},
   "source": [
    "Un error en la línea 10, y otro en la línea 6. Lo que nos indicaes que cuando llamas una función del menú en la línea 10, un error ocurre en la línea 6 (en la que se quita 1). Tiene sentido si conoces lo que hace la función `input()` - He leido un poco y probe, me he dado cuenta que si tecleas una letra o palabra, asumirá que estas mencionando una variable! Así que en la línea 6, intentamos quitarle 1 a la variable 'm', la cual no existe.<br>\n",
    "¿No tienes idea de como solucionar esto? Una de las mejores formas es utilizando los operadores  `try` y `except`.<br>\n",
    "\n",
    "Un ejemplo de `try` es utilizado en un programa:\n",
    "```Python\n",
    "try:\n",
    "    function(world,parameters)\n",
    "except:\n",
    "    print(world.errormsg)\n",
    "```\n",
    "Este es un ejemplo de una sección de código realmente desordenado que requiere ser arreglado. Primero, el código se ejecuta bajo `try:`. Si hay un error, el compilador salta a la sección de excepción y despliega `world.errormsg`. El programa no se detiene ahí, sino que ejecuta el código bajo `except:` luego continúa<br>\n",
    "\n",
    "Probemos donde se produjo el error en nuestro código (línea 6). La función de menú es:"
   ]
  },
  {
   "cell_type": "code",
   "execution_count": 4,
   "metadata": {},
   "outputs": [
    {
     "name": "stdout",
     "output_type": "stream",
     "text": [
      "1) A\n",
      "2) B\n",
      "3) C\n",
      "4) D\n",
      "5) E\n",
      "6) F\n",
      "7) H\n",
      "8) I\n"
     ]
    },
    {
     "ename": "SyntaxError",
     "evalue": "unexpected EOF while parsing (<string>, line 0)",
     "output_type": "error",
     "traceback": [
      "Traceback \u001b[0;36m(most recent call last)\u001b[0m:\n",
      "  File \u001b[1;32m\"/data/miniconda3/envs/gee/lib/python3.9/site-packages/IPython/core/interactiveshell.py\"\u001b[0m, line \u001b[1;32m3437\u001b[0m, in \u001b[1;35mrun_code\u001b[0m\n    exec(code_obj, self.user_global_ns, self.user_ns)\n",
      "  File \u001b[1;32m\"<ipython-input-4-632966169cbe>\"\u001b[0m, line \u001b[1;32m12\u001b[0m, in \u001b[1;35m<module>\u001b[0m\n    answer = menu(['A','B','C','D','E','F','H','I'],\\\n",
      "\u001b[0;36m  File \u001b[0;32m\"<ipython-input-4-632966169cbe>\"\u001b[0;36m, line \u001b[0;32m6\u001b[0;36m, in \u001b[0;35mmenu\u001b[0;36m\u001b[0m\n\u001b[0;31m    return eval(input(question)) - 1\u001b[0m\n",
      "\u001b[0;36m  File \u001b[0;32m\"<string>\"\u001b[0;36m, line \u001b[0;32munknown\u001b[0m\n\u001b[0;31m    \u001b[0m\n\u001b[0m    ^\u001b[0m\n\u001b[0;31mSyntaxError\u001b[0m\u001b[0;31m:\u001b[0m unexpected EOF while parsing\n"
     ]
    }
   ],
   "source": [
    "def menu(list, question):\n",
    "    for entry in list:\n",
    "        print(1 + list.index(entry),end=\"\")\n",
    "        print(\") \" + entry)\n",
    "    try:\n",
    "        return eval(input(question)) - 1\n",
    "    except NameError:\n",
    "        print(\"Enter a correct number\")\n",
    "\n",
    "# ejecuta la función\n",
    "# recuerda los que hace el backslash al final de la línea\n",
    "answer = menu(['A','B','C','D','E','F','H','I'],\\\n",
    "'Which letter is your favourite? ')\n",
    "\n",
    "print('You picked answer ' + str(answer + 1))"
   ]
  },
  {
   "cell_type": "markdown",
   "metadata": {},
   "source": [
    "Prueba introducir una letra cuando te pidan un número y mirá que pasa, rayos!, resolveremos nuestro problema, pero ahora se causa otro problema, así sucede todo el tiempo, a veces acabas dando vueltas en círculos porque tu código es un absoluto desastre). Echemos un vistazo al error.<br>\n",
    "\n",
    "Lo que sucede ahora es que la función de menú no ha regresado algún valor - sólo ha mandado un mensaje de error. Cuando al final del programa, intentamos desplegar el valor retornado más uno, ¿Cuál es el valor devuelto? ¿No hay ningun valor retornado? Así que es 1+ ... bien, no tenemos ni idea de lo que estamos agregando!<br>\n",
    "\n",
    "Podríamos devolver un número cualquiera, pero sería mentir. Lo que deberiamos hacer es reescribir el programa para hacer frente a esta excepción. ¿Con qué? con `try` and `except`!"
   ]
  },
  {
   "cell_type": "code",
   "execution_count": 5,
   "metadata": {},
   "outputs": [
    {
     "ename": "SyntaxError",
     "evalue": "invalid syntax (<ipython-input-5-40b4cd7b781e>, line 16)",
     "output_type": "error",
     "traceback": [
      "\u001b[0;36m  File \u001b[0;32m\"<ipython-input-5-40b4cd7b781e>\"\u001b[0;36m, line \u001b[0;32m16\u001b[0m\n\u001b[0;31m    except:\u001b[0m\n\u001b[0m    ^\u001b[0m\n\u001b[0;31mSyntaxError\u001b[0m\u001b[0;31m:\u001b[0m invalid syntax\n"
     ]
    }
   ],
   "source": [
    "def menu(list, question):\n",
    "    for entry in list:\n",
    "        print(1 + list.index(entry),end=\"\")\n",
    "        print(\") \" + entry)\n",
    "    try:\n",
    "        return eval(input(question)) - 1\n",
    "    except NameError:\n",
    "        print(\"Enter a correct number\")\n",
    "\n",
    "answer = menu(['A','B','C','D','E','F','H','I'],\\\n",
    "'¿Cuál es tu letra favorita? ')\n",
    "try:\n",
    "    print(\"You picked answer\", (answer + 1)\n",
    "    # puedes colocar cosas después de la coma con la sentencia 'print',\n",
    "    # y continuará como si hayas tecleado 'print' otra vez.\n",
    "except:\n",
    "    print(\"\\nIncorrect answer.\")\n",
    "    # el salto de línea '\\n' es por razones de formato. Pruebe sin este y observa que sucede."
   ]
  },
  {
   "cell_type": "markdown",
   "metadata": {},
   "source": [
    "Problema resuelto otra vez.\n",
    "## 10.4 Errores interminables\n",
    "El enfoque que hemos utilizado arriba no es recomendable. ¿Por que? Por que aparte del error que sabemos que puede ocurrir `except:` atrapa cualquier otro error también. ¿Qué pasa si esto significa que nunca vemos un error que podría causar problemas más adelante? Si `except:` captura cada error bajo el sol, no tenemos ninguna esperanza de controlar que errores tratamos, y los que queremos ver, porque hasta ahora no lo hemos tratado. También tenemos pocas esperanzas de tratar con más de un tipo de error en el mismo bloque de código. ¿Qué hay que hacer, cuando todo es inútil? He aquí un código con tal situación:"
   ]
  },
  {
   "cell_type": "code",
   "execution_count": 7,
   "metadata": {},
   "outputs": [
    {
     "name": "stdout",
     "output_type": "stream",
     "text": [
      "Programa de resta, v0.0.1 (beta)\n"
     ]
    },
    {
     "ename": "SyntaxError",
     "evalue": "unexpected EOF while parsing (<string>, line 0)",
     "output_type": "error",
     "traceback": [
      "Traceback \u001b[0;36m(most recent call last)\u001b[0m:\n",
      "  File \u001b[1;32m\"/data/miniconda3/envs/gee/lib/python3.9/site-packages/IPython/core/interactiveshell.py\"\u001b[0m, line \u001b[1;32m3437\u001b[0m, in \u001b[1;35mrun_code\u001b[0m\n    exec(code_obj, self.user_global_ns, self.user_ns)\n",
      "\u001b[0;36m  File \u001b[0;32m\"<ipython-input-7-fe92f4f9971d>\"\u001b[0;36m, line \u001b[0;32m2\u001b[0;36m, in \u001b[0;35m<module>\u001b[0;36m\u001b[0m\n\u001b[0;31m    a = eval(input('Introduzca un número para restarlo> '))\u001b[0m\n",
      "\u001b[0;36m  File \u001b[0;32m\"<string>\"\u001b[0;36m, line \u001b[0;32munknown\u001b[0m\n\u001b[0;31m    \u001b[0m\n\u001b[0m    ^\u001b[0m\n\u001b[0;31mSyntaxError\u001b[0m\u001b[0;31m:\u001b[0m unexpected EOF while parsing\n"
     ]
    }
   ],
   "source": [
    "print(\"Programa de resta, v0.0.1 (beta)\")\n",
    "a = eval(input('Introduzca un número para restarlo > '))\n",
    "b = eval(input('Introduzca el número a restar > '))\n",
    "print(a - b)"
   ]
  },
  {
   "cell_type": "markdown",
   "metadata": {},
   "source": [
    "Ok, introduce dos números y funciona. Intoduce una letra, y te da un error `NameError`. Vamos a reescribir el código para tratar sólo con `NameError`. Colocaremos el programa en un ciclo, para que se reinicie si ocurre un error (usando `continue`, que inicia el bucle desde el principio y con `break` que deja el ciclo):"
   ]
  },
  {
   "cell_type": "code",
   "execution_count": 8,
   "metadata": {},
   "outputs": [
    {
     "name": "stdout",
     "output_type": "stream",
     "text": [
      "Subtraction program, v0.0.2 (beta)\n"
     ]
    },
    {
     "ename": "SyntaxError",
     "evalue": "unexpected EOF while parsing (<string>, line 0)",
     "output_type": "error",
     "traceback": [
      "Traceback \u001b[0;36m(most recent call last)\u001b[0m:\n",
      "  File \u001b[1;32m\"/data/miniconda3/envs/gee/lib/python3.9/site-packages/IPython/core/interactiveshell.py\"\u001b[0m, line \u001b[1;32m3437\u001b[0m, in \u001b[1;35mrun_code\u001b[0m\n    exec(code_obj, self.user_global_ns, self.user_ns)\n",
      "\u001b[0;36m  File \u001b[0;32m\"<ipython-input-8-91242b159bd5>\"\u001b[0;36m, line \u001b[0;32m5\u001b[0;36m, in \u001b[0;35m<module>\u001b[0;36m\u001b[0m\n\u001b[0;31m    a = eval(input('Introduzca un número para restarlo> '))\u001b[0m\n",
      "\u001b[0;36m  File \u001b[0;32m\"<string>\"\u001b[0;36m, line \u001b[0;32munknown\u001b[0m\n\u001b[0;31m    \u001b[0m\n\u001b[0m    ^\u001b[0m\n\u001b[0;31mSyntaxError\u001b[0m\u001b[0;31m:\u001b[0m unexpected EOF while parsing\n"
     ]
    }
   ],
   "source": [
    "print(\"Subtraction program, v0.0.2 (beta)\")\n",
    "loop = 1\n",
    "while loop == 1:\n",
    "    try:\n",
    "        a = eval(input('Introduzca un número para restarlo > '))\n",
    "        b = eval(input('Introduzca el número a restar > '))\n",
    "    except NameError:\n",
    "        print(\"\\nNo puedes restar una letra\")\n",
    "        continue\n",
    "    print(a - b)\n",
    "    try:\n",
    "        loop = eval(input('Presiona 1 para probrar otra vez > '))\n",
    "    except NameError:\n",
    "        loop = 0"
   ]
  },
  {
   "cell_type": "markdown",
   "metadata": {},
   "source": [
    "Aquí, reiniciamos el ciclo si escribes mal algo. En la línea 12, asumimos que deseas salir del programa si presionas 1, así  salimos del programa. <br>\n",
    "\n",
    "Pero todavía hay problemas. Si dejamos en blanco  o escribimos un cáracter inusual como  ! or ;, el programa da un error `SyntaxError`. Vamos a solucionar esto. Cuando pidamos un número para restar, daremos un mensaje de error diferente, cuando se pida que se pulse 1, asumiremos de nuevo que el usuario quiere salir."
   ]
  },
  {
   "cell_type": "code",
   "execution_count": 9,
   "metadata": {},
   "outputs": [
    {
     "name": "stdout",
     "output_type": "stream",
     "text": [
      "Subtraction program, v0.0.2 (beta)\n",
      "\n",
      "Por favor, sólo intrpduce un número.\n",
      "\n",
      "Por favor, sólo intrpduce un número.\n",
      "\n",
      "Por favor, sólo intrpduce un número.\n",
      "\n",
      "Por favor, sólo intrpduce un número.\n",
      "\n",
      "Por favor, sólo intrpduce un número.\n",
      "\n",
      "Por favor, sólo intrpduce un número.\n",
      "\n",
      "Por favor, sólo intrpduce un número.\n",
      "0\n"
     ]
    }
   ],
   "source": [
    "print(\"Subtraction program, v0.0.2 (beta)\")\n",
    "loop = 1\n",
    "while loop == 1:\n",
    "    try:\n",
    "        a = eval(input('Introduzca un número para restarlo >  '))\n",
    "        b = eval(input('Introduzca el número a restar >'))\n",
    "    except NameError:\n",
    "        print(\"\\nNo puedes restar una letra\")\n",
    "        continue\n",
    "    except SyntaxError:\n",
    "        print(\"\\nPor favor, sólo introduce un número.\")\n",
    "        continue\n",
    "    print(a - b)\n",
    "    try:\n",
    "        loop = eval(input('Presiona 1 para probar nuevamente > '))\n",
    "    except (NameError,SyntaxError):\n",
    "        loop = 0"
   ]
  },
  {
   "cell_type": "markdown",
   "metadata": {},
   "source": [
    "Como puedes ver, 'Except' tiene múltiples usos, cada uno de los cuales se utiliza para un uso diferente. También puede ocupar un 'except' para tratar con múltiples excepciones, poniéndolas dentro de paréntesis y separándolas por comas.<br>\n",
    "\n",
    "Ahora tenemos un prgrama que es muy díficil, para que un usuario final lo estrelle. Como reto final, prueba si los estrellastes. Hay una forma que se me ocurrio - Si lees con cuidado sobre el error humano, puede que conozcas cual es.\n",
    "\n",
    "## 10.5 Conclusiones, Dulce conclusión\n",
    "¡Ahí lo tienes! ¡La última lección sobre Python! Finalmente hemos terminado."
   ]
  },
  {
   "cell_type": "markdown",
   "metadata": {},
   "source": [
    "< [File I/O](PythonIntroCh9.ipynb) | [Contenido](PythonIntro.ipynb) >"
   ]
  },
  {
   "cell_type": "markdown",
   "metadata": {},
   "source": []
  }
 ],
 "metadata": {
  "interpreter": {
   "hash": "1fa8ed16bc6b9e94aedf724eb90c81f20bfb0a4bc0a29406e879617b15a212bc"
  },
  "kernelspec": {
   "display_name": "Python 3.9.4 64-bit ('gee': conda)",
   "name": "python3"
  },
  "language_info": {
   "codemirror_mode": {
    "name": "ipython",
    "version": 3
   },
   "file_extension": ".py",
   "mimetype": "text/x-python",
   "name": "python",
   "nbconvert_exporter": "python",
   "pygments_lexer": "ipython3",
   "version": "3.9.4"
  }
 },
 "nbformat": 4,
 "nbformat_minor": 2
}
