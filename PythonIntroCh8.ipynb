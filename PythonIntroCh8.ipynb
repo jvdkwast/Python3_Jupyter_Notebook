{
 "cells": [
  {
   "cell_type": "markdown",
   "metadata": {},
   "source": [
    "< [Clases](PythonIntroCh7.ipynb) | [Contenido](PythonIntro.ipynb) | [File I/O](PythonIntroCh9.ipynb) >"
   ]
  },
  {
   "cell_type": "markdown",
   "metadata": {},
   "source": [
    "# 8. Modulos\n",
    "## 8.1 Introducción\n",
    "La última lección cubriremos el tema asesino de las Clases. Como recuerdas, las clases son combinaciones de variables y funciones en un pawuete agradable y ordenado. Dentro de la jerga de la programación a esta característica se le llama *encapsulación*, pero independientemente de cómo se llame, es una característica genial para mantener las cosas juntas para que el código se pueda utilizar en muchos lugares. Por supuesto debes preguntarte ¿Cómo llevo mis clases a muchos lugares, em nuchos programas? La respuesta es ponerlos en un módulo para importarlos a otros programas."
   ]
  },
  {
   "cell_type": "markdown",
   "metadata": {},
   "source": [
    "## 8.2 ¿Modulo? ¿Qué es un Modulo?\n",
    "Un módulo es un archivo Python que (generalmente) tiene una única definición de variables, funciones y clases. Por ejemplo, un módulo podría lucir como esto, el cual almacenamos en un archivo `moduletest.py`:\n",
    "```Python\n",
    "### EXAMPLE PYTHON MODULE\n",
    "# Definición de algunas variables:\n",
    "numberone = 1\n",
    "ageofqueen = 78\n",
    "\n",
    "# definición de una función\n",
    "def printhello():\n",
    "    print(\"hello\")\n",
    "    \n",
    "def timesfour(input):\n",
    "    print(eval(input) * 4)\n",
    "    \n",
    "# definición de una clase\n",
    "class Piano:\n",
    "    def __init__(self):\n",
    "        self.type = input(\"What type of piano? \")\n",
    "        self.height = input(\"What height (in feet)? \")\n",
    "        self.price = input(\"How much did it cost? \")\n",
    "        self.age = input(\"How old is it (in years)? \")\n",
    "\t\n",
    "    def printdetails(self):\n",
    "        print(\"This piano is a/an \" + self.height + \" foot\", end=\" \")\n",
    "        print(self.type, \"piano, \" + self.age, \"years old and costing\\\n",
    "         \" + self.price + \" dollars.\")\n",
    "```\n",
    "\n",
    "Como puedes ver, un módulo luce como un programa Python normal.\n",
    "Entonces ¿Qué hacemos con un módulo? Importamos un fragmento (o todo) a otros programas.\n",
    "\n",
    "Esto asume que el módulo se encuentra en el mismo directorio como `mainprogram.py`, o es un módulo por default que viene con Python. Omites la extensión de `.py` al final del nombre del archivo - es ignorado. Normalmente colocas las sentencias `import` al principio del archivo Python, pero tecnicamente en cualquier lugar. Para utilizar los elementos del módulo en su programa principal, utilice los siguiente:\n",
    "\n",
    "```Python\n",
    "### USING AN IMPORTED MODULE\n",
    "# Use the form modulename.itemname\n",
    "# Examples:\n",
    "print(moduletest.ageofqueen)\n",
    "cfcpiano = moduletest.Piano()\n",
    "cfcpiano.printdetails()\n",
    "```\n",
    "\n",
    "Como observas, el modulo que importas actúan de manera parecida a las clases que vimos en la última lección; cualquier cosa dentro ellos debe estar prececida  por un nombre de módulo `modulename.` para que funcione."
   ]
  },
  {
   "cell_type": "markdown",
   "metadata": {},
   "source": [
    "## 8.3 Más detalles del módulo thingummyjigs (a falta de un título mejor)\n",
    "Te gustaría poder deshacerte de la parte de `modulename.` que tienes que poner antes de cada elemento que utilizas para el módulo? No? Nunca? Bien, te lo enseñare de todos modos.\n",
    "\n",
    "Una forma de evitar esta molestia es importar sólo los objetos deseados desde el módulo. Para ello utiliza el operador `from`, utilizalo de la forma de `from modulename import itemname`. Aquí un ejemplo:\n",
    "\n",
    "```Python\n",
    "### IMPORTA ELEMENTOS DIRECTAMENTE DENTRO DE TU PROGRAMA\n",
    "\n",
    "# import them\n",
    "from moduletest import ageofqueen\n",
    "from moduletest import printhello\n",
    "\n",
    "# now try using them\n",
    "print(ageofqueen)\n",
    "printhello()\n",
    "```\n",
    "¿Para que sirve esto? Bueno, tal vez podría utilizarse para hacer su código un poco más legible. Si nos metemos dentro de montones de módulos dentro de módulos, también se podría eliminar esa capa extra de mimetismo críptico.\n",
    "\n",
    "Si quisieras, podrías importar todo desde un módulo, de esta forma utilizando  `from modulename import *`. Por supuesto, esto puede ser problematico si hay objetos en tu programa con el mismo nombre que algunos elementos del módulo. Con módulos grandes, puede suceder fácilmente,y puede causar dolores de cabeza. Una mejor manera de hacer esto sería importar el módulo de la manera normal  (sin el operador from) y luego asignar los elementos a un nombre local:\n",
    "\n",
    "```Python\n",
    "### ASIGNAR ELEMENTOS A UN NOMBRE LOCAL\n",
    "\n",
    "# Assigning to a local name\n",
    "timesfour = moduletest.timesfour\n",
    "\n",
    "# Using the local name\n",
    "print(timesfour(565))\n",
    "```\n",
    "De esta manera, puedes borrar algunas características del mimetismo críptico, y tener todos los elementos desde un cierto módulo. \n",
    "\n",
    "La última forma práctica para importar los módulos es con un alias. Podrías cambiar un nombre porque has utilizado el mismo nombre para tu programa, otro módulo que importaste utiliza el mismo nombre, o podrías abreviar un nombre más largo que usas mucho. Entonces podemos utilizar el operador  `as`. Que luce como esto:\n",
    "\n",
    "```Python\n",
    "### IMPORTA UN MODULO CON UN ALIAS\n",
    "# import module\n",
    "import moduletest as mt\n",
    "\n",
    "# use module\n",
    "print(mt.age)\n",
    "cfcpiano = mt.Piano()\n",
    "cfcpiano.printdetails()\n",
    "```\n",
    "\n",
    "## 8.4 Conclusiones\n",
    "¡Es todo! es una lección muy simple, pero puedes organizar tus programas de forma muy ordenada. De hecho, ahora es increiblemente fácil hacer programas que pueden crecer en complejidad sin terminar con un archivo críptico y lleno de bugs.\n",
    "\n",
    "Los módulos son geniales para importar código. En la próxima lección, aprenderemos sobre el archivo de entrada y salida, y guardar información dentro de las clases, para ser recuperada en forma posterior. ¡Será genial!"
   ]
  },
  {
   "cell_type": "markdown",
   "metadata": {},
   "source": [
    "< [Classes](PythonIntroCh7.ipynb) | [Contenido](PythonIntro.ipynb) | [File I/O](PythonIntroCh9.ipynb) >"
   ]
  }
 ],
 "metadata": {
  "kernelspec": {
   "display_name": "Python 3",
   "language": "python",
   "name": "python3"
  },
  "language_info": {
   "codemirror_mode": {
    "name": "ipython",
    "version": 3
   },
   "file_extension": ".py",
   "mimetype": "text/x-python",
   "name": "python",
   "nbconvert_exporter": "python",
   "pygments_lexer": "ipython3",
   "version": "3.6.5"
  }
 },
 "nbformat": 4,
 "nbformat_minor": 2
}
